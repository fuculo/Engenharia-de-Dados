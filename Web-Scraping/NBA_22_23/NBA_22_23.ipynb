{
 "cells": [
  {
   "cell_type": "markdown",
   "metadata": {},
   "source": [
    "<strong><b><font size=\"6\">Web Scraping e Análise de Dados</font></b></strong>"
   ]
  },
  {
   "cell_type": "markdown",
   "metadata": {},
   "source": [
    "<strong><b><font size=\"4\">Engenharia de Dados no Esporte - Web Scraping e Análise Estatística em Dados da NBA</font></b></strong>"
   ]
  },
  {
   "cell_type": "markdown",
   "metadata": {},
   "source": [
    "## Contexto\n",
    "\n",
    "A Ciência de Dados está em todos os lugares e, quando se trata do mundo dos esportes, a Engenharia de Dados desempenha um papel crucial na coleta, processamento e análise dos dados disponíveis. Através da Engenharia de Dados, é possível lidar com grandes volumes de informações geradas em eventos esportivos e transformá-las em conhecimentos acionáveis.\n",
    "\n",
    "Um dos principais desafios da Engenharia de Dados no esporte é lidar com a variedade de formatos e estruturas dos dados. Os dados esportivos podem ser provenientes de diferentes fontes, como planilhas, bancos de dados relacionais, ou não relacionais como, arquivos de vídeo e transmissões ao vivo. A Engenharia de Dados deve ser capaz de integrar e harmonizar esses diferentes tipos de dados, garantindo que eles possam ser unificados e analisados de forma eficiente.\n",
    "\n",
    "Ainda, a Engenharia de Dados desempenha um papel crítico na garantia da qualidade dos dados. Isso envolve a identificação e correção de erros, a validação da consistência dos dados e a detecção de valores ausentes ou inconsistentes. Através de técnicas de limpeza e transformação de dados, podemos garantir que os dados utilizados na análise sejam confiáveis e precisos."
   ]
  },
  {
   "cell_type": "markdown",
   "metadata": {},
   "source": [
    "## Objetivo\n",
    "O objetivo do projeto a seguir é demonstrar a técnica de web scraping (raspagem) que apliquei no site <a href=\"https://www.basketball-reference.com\">Basketball-Reference</a>, o qual possui dados estatísticos detalhados sobre a NBA (National Basketball Association), e em seguida, realizar uma análise breve utilizando os dados extraídos.\n"
   ]
  },
  {
   "cell_type": "markdown",
   "metadata": {},
   "source": [
    "## Carregando os Pacotes Usados Neste Jupyter Notebook"
   ]
  },
  {
   "cell_type": "code",
   "execution_count": 1,
   "metadata": {},
   "outputs": [],
   "source": [
    "# Instala o pacote watermark. \n",
    "# Esse pacote é usado para gravar as versões de outros pacotes usados neste jupyter notebook.\n",
    "#!pip install -q -U watermark"
   ]
  },
  {
   "cell_type": "code",
   "execution_count": 2,
   "metadata": {
    "scrolled": false
   },
   "outputs": [],
   "source": [
    "# Imports\n",
    "\n",
    "# Imports para Web Scraping\n",
    "import bs4\n",
    "import csv \n",
    "import requests \n",
    "from bs4 import BeautifulSoup\n",
    "\n",
    "# Imports para manipulação, visualização e análise de dados\n",
    "import pandas as pd\n",
    "import seaborn as sns\n",
    "import matplotlib.pyplot as plt\n",
    "#import pingouin as pg"
   ]
  },
  {
   "cell_type": "code",
   "execution_count": 3,
   "metadata": {},
   "outputs": [
    {
     "name": "stdout",
     "output_type": "stream",
     "text": [
      "Author: Filipe Fúculo\n",
      "\n",
      "bs4       : 4.11.1\n",
      "matplotlib: 3.5.2\n",
      "pandas    : 1.4.4\n",
      "seaborn   : 0.11.2\n",
      "requests  : 2.28.1\n",
      "csv       : 1.0\n",
      "\n"
     ]
    }
   ],
   "source": [
    "# Versões dos pacotes usados neste jupyter notebook\n",
    "%reload_ext watermark\n",
    "%watermark -a \"Filipe Fúculo\" --iversions"
   ]
  },
  {
   "cell_type": "markdown",
   "metadata": {},
   "source": [
    "## Web Scraping"
   ]
  },
  {
   "cell_type": "code",
   "execution_count": 4,
   "metadata": {},
   "outputs": [],
   "source": [
    "# Criamos um arquivo para salvar o resultado do web scraping\n",
    "arquivo = csv.writer(open('dados/nba23.csv', 'w', encoding = \"utf-8\")) "
   ]
  },
  {
   "cell_type": "code",
   "execution_count": 5,
   "metadata": {},
   "outputs": [],
   "source": [
    "# Fazemos requisição à página web com os dados do nosso interesse, nesse caso temporada 2022/2023\n",
    "pagina = requests.get(\"https://www.basketball-reference.com/leagues/NBA_2023_per_game.html\")"
   ]
  },
  {
   "cell_type": "code",
   "execution_count": 6,
   "metadata": {},
   "outputs": [
    {
     "data": {
      "text/plain": [
       "<Response [200]>"
      ]
     },
     "execution_count": 6,
     "metadata": {},
     "output_type": "execute_result"
    }
   ],
   "source": [
    "# Requisição 200 indica sucesso na conexão\n",
    "pagina"
   ]
  },
  {
   "cell_type": "markdown",
   "metadata": {},
   "source": [
    "Visualizamos o conteúdo da pagina:"
   ]
  },
  {
   "cell_type": "code",
   "execution_count": 7,
   "metadata": {},
   "outputs": [
    {
     "data": {
      "text/plain": [
       "'\\n<!DOCTYPE html>\\n<html data-version=\"klecko-\" data-root=\"/home/bbr/build\" lang=\"en\" class=\"no-js\" >\\n<head>\\n    <meta charset=\"utf-8\">\\n    <meta http-equiv=\"x-ua-compatible\" content=\"ie=edge\">\\n    <meta name=\"viewport\" content=\"width=device-width, initial-scale=1.0, maximum-scale=2.0\" />\\n    <link rel=\"dns-prefetch\" href=\"https://cdn.ssref.net/req/202307011\" />\\n<!-- Quantcast Choice. Consent Manager Tag v2.0 (for TCF 2.0) -->\\n<script type=\"text/javascript\" async=true>\\n    (function() {\\n\\tvar host '"
      ]
     },
     "execution_count": 7,
     "metadata": {},
     "output_type": "execute_result"
    }
   ],
   "source": [
    "# Visualiza os dados\n",
    "pagina.text[:500]"
   ]
  },
  {
   "cell_type": "code",
   "execution_count": 8,
   "metadata": {},
   "outputs": [],
   "source": [
    "# Vamos fazer o parser na página HTML para formatar o texto\n",
    "soup = BeautifulSoup(pagina.text, 'html.parser')"
   ]
  },
  {
   "cell_type": "code",
   "execution_count": 9,
   "metadata": {},
   "outputs": [
    {
     "name": "stdout",
     "output_type": "stream",
     "text": [
      "\n",
      "<!DOCTYPE html>\n",
      "\n",
      "<html class=\"no-js\" data-root=\"/home/bbr/build\" data-version=\"klecko-\" lang=\"en\">\n",
      "<head>\n",
      "<meta charset=\"utf-8\"/>\n",
      "<meta content=\"ie=edge\" http-equiv=\"x-ua-compatible\"/>\n",
      "<meta content=\"width=device-width, initial-scale=1.0, maximum-scale=2.0\" name=\"viewport\">\n",
      "<link href=\"https://cdn.ssref.net/req/202307011\" rel=\"dns-prefetch\"/>\n",
      "<!-- Quantcast Choice. Consent Manager Tag v2.0 (for TCF 2.0) -->\n",
      "<script async=\"true\" type=\"text/javascript\">\n",
      "    (function() {\n",
      "\tvar host = window.locati\n"
     ]
    }
   ],
   "source": [
    "# Imprime os primeiros 500 caracteres para checar saída da função\n",
    "print(str(soup)[:500])"
   ]
  },
  {
   "cell_type": "markdown",
   "metadata": {},
   "source": [
    "Mas os dados que nos interessam estão em uma tag div, class do tipo table_container. Vamos pesquisar e então extrair os dados."
   ]
  },
  {
   "cell_type": "code",
   "execution_count": 10,
   "metadata": {},
   "outputs": [],
   "source": [
    "# Busca pelo tag e classe na página HTML\n",
    "tabela = soup.find(\"div\", {\"class\": \"table_container\"})"
   ]
  },
  {
   "cell_type": "code",
   "execution_count": 11,
   "metadata": {},
   "outputs": [
    {
     "name": "stdout",
     "output_type": "stream",
     "text": [
      "<div class=\"table_container\" id=\"div_per_game_stats\">\n",
      "<table class=\"sortable stats_table\" data-cols-to-freeze=\",2\" data-non-qual=\"1\" data-qual-label=\" When table is sorted, hide non-qualifiers for rate stats\" data-qual-text=\"\" id=\"per_game_stats\">\n",
      "<caption>Player Per Game Table</caption>\n",
      "<colgroup><col/><col/><col/><col/><col/><col/><col/><col/><col/><col/><col/><col/><col/><col/><col/><col/><col/><col/><col/><col/><col/><col/><col/><col/><col/><col/><col/><col/><col/><col/></colgroup>\n",
      "<thead>\n",
      "<\n"
     ]
    }
   ],
   "source": [
    "# Imprime os primeiros 500 caracteres para checar saída da função\n",
    "print(str(tabela)[:500])"
   ]
  },
  {
   "cell_type": "markdown",
   "metadata": {},
   "source": [
    "Na tabela, buscamos pelo termo thead a fim de extrair a \"cabeça\" da tabela, ou seja, o cabeçalho."
   ]
  },
  {
   "cell_type": "code",
   "execution_count": 12,
   "metadata": {},
   "outputs": [
    {
     "data": {
      "text/plain": [
       "111"
      ]
     },
     "execution_count": 12,
     "metadata": {},
     "output_type": "execute_result"
    }
   ],
   "source": [
    "# Extrai o cabeçalho da tabela (título de cada coluna) e gravamos no arquivo\n",
    "header = tabela.find(\"thead\")\n",
    "header_elements = header.find_all(\"th\")\n",
    "header_elements = [head.text for head in header_elements[1:]]\n",
    "arquivo.writerow(header_elements)"
   ]
  },
  {
   "cell_type": "code",
   "execution_count": 13,
   "metadata": {},
   "outputs": [
    {
     "data": {
      "text/plain": [
       "<thead>\n",
       "<tr>\n",
       "<th aria-label=\"Rk\" class=\"ranker poptip sort_default_asc show_partial_when_sorting center\" data-stat=\"ranker\" data-tip=\"Rank\" scope=\"col\">Rk</th>\n",
       "<th aria-label=\"Player\" class=\"poptip sort_default_asc center\" data-stat=\"player\" scope=\"col\">Player</th>\n",
       "<th aria-label=\"Pos\" class=\"poptip sort_default_asc center\" data-stat=\"pos\" data-tip=\"Position\" scope=\"col\">Pos</th>\n",
       "<th aria-label=\"Age\" class=\"poptip sort_default_asc center\" data-stat=\"age\" data-tip=\"Player's age on February 1 of the season\" scope=\"col\">Age</th>\n",
       "<th aria-label=\"Tm\" class=\"poptip sort_default_asc center\" data-stat=\"team_id\" data-tip=\"Team\" scope=\"col\">Tm</th>\n",
       "<th aria-label=\"Games\" class=\"poptip center\" data-stat=\"g\" data-tip=\"Games\" scope=\"col\">G</th>\n",
       "<th aria-label=\"Games Started\" class=\"poptip center\" data-stat=\"gs\" data-tip=\"Games Started\" scope=\"col\">GS</th>\n",
       "<th aria-label=\"Minutes Played Per Game\" class=\"poptip hide_non_quals center\" data-stat=\"mp_per_g\" data-tip=\"Minutes Played Per Game\" scope=\"col\">MP</th>\n",
       "<th aria-label=\"Field Goals Per Game\" class=\"poptip hide_non_quals center\" data-stat=\"fg_per_g\" data-tip=\"Field Goals Per Game\" scope=\"col\">FG</th>\n",
       "<th aria-label=\"Field Goal Attempts Per Game\" class=\"poptip hide_non_quals center\" data-stat=\"fga_per_g\" data-tip=\"Field Goal Attempts Per Game\" scope=\"col\">FGA</th>\n",
       "<th aria-label=\"Field Goal Percentage\" class=\"poptip hide_non_quals center\" data-stat=\"fg_pct\" data-tip=\"Field Goal Percentage\" scope=\"col\">FG%</th>\n",
       "<th aria-label=\"3-Point Field Goals Per Game\" class=\"poptip hide_non_quals center\" data-stat=\"fg3_per_g\" data-tip=\"3-Point Field Goals Per Game\" scope=\"col\">3P</th>\n",
       "<th aria-label=\"3-Point Field Goal Attempts Per Game\" class=\"poptip hide_non_quals center\" data-stat=\"fg3a_per_g\" data-tip=\"3-Point Field Goal Attempts Per Game\" scope=\"col\">3PA</th>\n",
       "<th aria-label=\"3-Point Field Goal Percentage\" class=\"poptip hide_non_quals center\" data-stat=\"fg3_pct\" data-tip=\"3-Point Field Goal Percentage\" scope=\"col\">3P%</th>\n",
       "<th aria-label=\"2-Point Field Goals Per Game\" class=\"poptip hide_non_quals center\" data-stat=\"fg2_per_g\" data-tip=\"2-Point Field Goals Per Game\" scope=\"col\">2P</th>\n",
       "<th aria-label=\"2-Point Field Goal Attempts Per Game\" class=\"poptip hide_non_quals center\" data-stat=\"fg2a_per_g\" data-tip=\"2-Point Field Goal Attempts Per Game\" scope=\"col\">2PA</th>\n",
       "<th aria-label=\"2-Point Field Goal Percentage\" class=\"poptip hide_non_quals center\" data-stat=\"fg2_pct\" data-tip=\"2-Point Field Goal Percentage\" scope=\"col\">2P%</th>\n",
       "<th aria-label=\"Effective Field Goal Percentage\" class=\"poptip hide_non_quals center\" data-stat=\"efg_pct\" data-tip=\"&lt;strong&gt;Effective Field Goal Percentage&lt;/strong&gt;&lt;br&gt;This statistic adjusts for the fact that a 3-point field goal is worth one more point than a 2-point field goal.\" scope=\"col\">eFG%</th>\n",
       "<th aria-label=\"Free Throws Per Game\" class=\"poptip hide_non_quals center\" data-stat=\"ft_per_g\" data-tip=\"Free Throws Per Game\" scope=\"col\">FT</th>\n",
       "<th aria-label=\"Free Throw Attempts Per Game\" class=\"poptip hide_non_quals center\" data-stat=\"fta_per_g\" data-tip=\"Free Throw Attempts Per Game\" scope=\"col\">FTA</th>\n",
       "<th aria-label=\"Free Throw Percentage\" class=\"poptip hide_non_quals center\" data-stat=\"ft_pct\" data-tip=\"Free Throw Percentage\" scope=\"col\">FT%</th>\n",
       "<th aria-label=\"Offensive Rebounds Per Game\" class=\"poptip hide_non_quals center\" data-stat=\"orb_per_g\" data-tip=\"Offensive Rebounds Per Game\" scope=\"col\">ORB</th>\n",
       "<th aria-label=\"Defensive Rebounds Per Game\" class=\"poptip hide_non_quals center\" data-stat=\"drb_per_g\" data-tip=\"Defensive Rebounds Per Game\" scope=\"col\">DRB</th>\n",
       "<th aria-label=\"Total Rebounds Per Game\" class=\"poptip hide_non_quals center\" data-stat=\"trb_per_g\" data-tip=\"Total Rebounds Per Game\" scope=\"col\">TRB</th>\n",
       "<th aria-label=\"Assists Per Game\" class=\"poptip hide_non_quals center\" data-stat=\"ast_per_g\" data-tip=\"Assists Per Game\" scope=\"col\">AST</th>\n",
       "<th aria-label=\"Steals Per Game\" class=\"poptip hide_non_quals center\" data-stat=\"stl_per_g\" data-tip=\"Steals Per Game\" scope=\"col\">STL</th>\n",
       "<th aria-label=\"Blocks Per Game\" class=\"poptip hide_non_quals center\" data-stat=\"blk_per_g\" data-tip=\"Blocks Per Game\" scope=\"col\">BLK</th>\n",
       "<th aria-label=\"Turnovers Per Game\" class=\"poptip hide_non_quals center\" data-stat=\"tov_per_g\" data-tip=\"Turnovers Per Game\" scope=\"col\">TOV</th>\n",
       "<th aria-label=\"Personal Fouls Per Game\" class=\"poptip hide_non_quals center\" data-stat=\"pf_per_g\" data-tip=\"Personal Fouls Per Game\" scope=\"col\">PF</th>\n",
       "<th aria-label=\"Points Per Game\" class=\"poptip hide_non_quals center\" data-stat=\"pts_per_g\" data-tip=\"Points Per Game\" scope=\"col\">PTS</th>\n",
       "</tr>\n",
       "</thead>"
      ]
     },
     "execution_count": 13,
     "metadata": {},
     "output_type": "execute_result"
    }
   ],
   "source": [
    "# Visualiza os dados\n",
    "header"
   ]
  },
  {
   "cell_type": "markdown",
   "metadata": {},
   "source": [
    "Podemos então extrair os elementos de cada linha. Buscamos pela tag tr e class full_tabel."
   ]
  },
  {
   "cell_type": "code",
   "execution_count": 14,
   "metadata": {},
   "outputs": [],
   "source": [
    "# Extrai elementos de cada linha da tabela\n",
    "elementos_linha = tabela.find_all(\"tr\", {\"class\": \"full_table\"})"
   ]
  },
  {
   "cell_type": "code",
   "execution_count": 15,
   "metadata": {},
   "outputs": [
    {
     "name": "stdout",
     "output_type": "stream",
     "text": [
      "[<tr class=\"full_table\"><th class=\"right\" csk=\"1\" data-stat=\"ranker\" scope=\"row\">1</th><td class=\"left\" csk=\"Achiuwa,Precious\" data-append-csv=\"achiupr01\" data-stat=\"player\"><a href=\"/players/a/achiupr01.html\">Precious Achiuwa</a></td><td class=\"center\" data-stat=\"pos\">C</td><td class=\"right\" data-stat=\"age\">23</td><td class=\"left\" data-stat=\"team_id\"><a href=\"/teams/TOR/2023.html\">TOR</a></td><td class=\"right\" data-stat=\"g\">55</td><td class=\"right\" data-stat=\"gs\">12</td><td class=\"right non_qual\" data-stat=\"mp_per_g\">20.7</td><td class=\"right non_qual\" data-stat=\"fg_per_g\">3.6</td><td class=\"right non_qual\" data-stat=\"fga_per_g\">7.3</td><td class=\"right non_qual\" data-stat=\"fg_pct\">.485</td><td class=\"right non_qual\" data-stat=\"fg3_per_g\">0.5</td><td class=\"right non_qual\" data-stat=\"fg3a_per_g\">2.0</td><td class=\"right non_qual\" data-stat=\"fg3_pct\">.269</td><td class=\"right non_qual\" data-stat=\"fg2_per_g\">3.0</td><td class=\"right non_qual\" data-stat=\"fg2a_per_g\">5.4</td><td class=\"right non_qual\" data-stat=\"fg2_pct\">.564</td><td class=\"right non_qual\" data-stat=\"efg_pct\">.521</td><td class=\"right non_qual\" data-stat=\"ft_per_g\">1.6</td><td class=\"right non_qual\" data-stat=\"fta_per_g\">2.3</td><td class=\"right non_qual\" data-stat=\"ft_pct\">.702</td><td class=\"right non_qual\" data-stat=\"orb_per_g\">1.8</td><td class=\"right non_qual\" data-stat=\"drb_per_g\">4.1</td><td class=\"right non_qual\" data-stat=\"trb_per_g\">6.0</td><td class=\"right non_qual\" data-stat=\"ast_per_g\">0.9</td><td class=\"right non_qual\" data-stat=\"stl_per_g\">0.6</td><td class=\"right non_qual\" data-stat=\"blk_per_g\">0.5</td><td class=\"right non_qual\" data-stat=\"tov_per_g\">1.1</td><td class=\"right non_qual\" data-stat=\"pf_per_g\">1.9</td><td class=\"right non_qual\" data-stat=\"pts_per_g\">9.2</td></tr>, <tr class=\"full_table\"><th class=\"\n"
     ]
    }
   ],
   "source": [
    "print(str(elementos_linha)[:1820])"
   ]
  },
  {
   "cell_type": "code",
   "execution_count": 16,
   "metadata": {},
   "outputs": [],
   "source": [
    "# Extraímos o conteúdo de cada linha e gravamos no arquivo em disco\n",
    "for row in elementos_linha:\n",
    "    data_elements = row.find_all(\"td\")\n",
    "    data_elements = [data.text for data in data_elements]\n",
    "    arquivo.writerow(data_elements)"
   ]
  },
  {
   "cell_type": "markdown",
   "metadata": {},
   "source": [
    "Web Scraping concluído. Vamos analisar os dados."
   ]
  },
  {
   "cell_type": "markdown",
   "metadata": {},
   "source": [
    "## Carregando e Analisando os Dados"
   ]
  },
  {
   "cell_type": "code",
   "execution_count": 17,
   "metadata": {},
   "outputs": [],
   "source": [
    "# Carrega o arquivo csv com o conteúdo do web scraping\n",
    "df_nba = pd.read_csv('dados/nba23.csv')"
   ]
  },
  {
   "cell_type": "code",
   "execution_count": 18,
   "metadata": {},
   "outputs": [
    {
     "data": {
      "text/plain": [
       "(439, 29)"
      ]
     },
     "execution_count": 18,
     "metadata": {},
     "output_type": "execute_result"
    }
   ],
   "source": [
    "# Shape - para retornar a quantidade de linhas e colunas do DataFrame\n",
    "df_nba.shape"
   ]
  },
  {
   "cell_type": "code",
   "execution_count": 19,
   "metadata": {},
   "outputs": [
    {
     "data": {
      "text/html": [
       "<div>\n",
       "<style scoped>\n",
       "    .dataframe tbody tr th:only-of-type {\n",
       "        vertical-align: middle;\n",
       "    }\n",
       "\n",
       "    .dataframe tbody tr th {\n",
       "        vertical-align: top;\n",
       "    }\n",
       "\n",
       "    .dataframe thead th {\n",
       "        text-align: right;\n",
       "    }\n",
       "</style>\n",
       "<table border=\"1\" class=\"dataframe\">\n",
       "  <thead>\n",
       "    <tr style=\"text-align: right;\">\n",
       "      <th></th>\n",
       "      <th>Player</th>\n",
       "      <th>Pos</th>\n",
       "      <th>Age</th>\n",
       "      <th>Tm</th>\n",
       "      <th>G</th>\n",
       "      <th>GS</th>\n",
       "      <th>MP</th>\n",
       "      <th>FG</th>\n",
       "      <th>FGA</th>\n",
       "      <th>FG%</th>\n",
       "      <th>3P</th>\n",
       "      <th>3PA</th>\n",
       "      <th>3P%</th>\n",
       "      <th>2P</th>\n",
       "      <th>2PA</th>\n",
       "      <th>2P%</th>\n",
       "      <th>eFG%</th>\n",
       "      <th>FT</th>\n",
       "      <th>FTA</th>\n",
       "      <th>FT%</th>\n",
       "      <th>ORB</th>\n",
       "      <th>DRB</th>\n",
       "      <th>TRB</th>\n",
       "      <th>AST</th>\n",
       "      <th>STL</th>\n",
       "      <th>BLK</th>\n",
       "      <th>TOV</th>\n",
       "      <th>PF</th>\n",
       "      <th>PTS</th>\n",
       "    </tr>\n",
       "  </thead>\n",
       "  <tbody>\n",
       "    <tr>\n",
       "      <th>0</th>\n",
       "      <td>Precious Achiuwa</td>\n",
       "      <td>C</td>\n",
       "      <td>23</td>\n",
       "      <td>TOR</td>\n",
       "      <td>55</td>\n",
       "      <td>12</td>\n",
       "      <td>20.7</td>\n",
       "      <td>3.6</td>\n",
       "      <td>7.3</td>\n",
       "      <td>0.485</td>\n",
       "      <td>0.5</td>\n",
       "      <td>2.0</td>\n",
       "      <td>0.269</td>\n",
       "      <td>3.0</td>\n",
       "      <td>5.4</td>\n",
       "      <td>0.564</td>\n",
       "      <td>0.521</td>\n",
       "      <td>1.6</td>\n",
       "      <td>2.3</td>\n",
       "      <td>0.702</td>\n",
       "      <td>1.8</td>\n",
       "      <td>4.1</td>\n",
       "      <td>6.0</td>\n",
       "      <td>0.9</td>\n",
       "      <td>0.6</td>\n",
       "      <td>0.5</td>\n",
       "      <td>1.1</td>\n",
       "      <td>1.9</td>\n",
       "      <td>9.2</td>\n",
       "    </tr>\n",
       "    <tr>\n",
       "      <th>1</th>\n",
       "      <td>Steven Adams</td>\n",
       "      <td>C</td>\n",
       "      <td>29</td>\n",
       "      <td>MEM</td>\n",
       "      <td>42</td>\n",
       "      <td>42</td>\n",
       "      <td>27.0</td>\n",
       "      <td>3.7</td>\n",
       "      <td>6.3</td>\n",
       "      <td>0.597</td>\n",
       "      <td>0.0</td>\n",
       "      <td>0.0</td>\n",
       "      <td>0.000</td>\n",
       "      <td>3.7</td>\n",
       "      <td>6.2</td>\n",
       "      <td>0.599</td>\n",
       "      <td>0.597</td>\n",
       "      <td>1.1</td>\n",
       "      <td>3.1</td>\n",
       "      <td>0.364</td>\n",
       "      <td>5.1</td>\n",
       "      <td>6.5</td>\n",
       "      <td>11.5</td>\n",
       "      <td>2.3</td>\n",
       "      <td>0.9</td>\n",
       "      <td>1.1</td>\n",
       "      <td>1.9</td>\n",
       "      <td>2.3</td>\n",
       "      <td>8.6</td>\n",
       "    </tr>\n",
       "    <tr>\n",
       "      <th>2</th>\n",
       "      <td>Bam Adebayo</td>\n",
       "      <td>C</td>\n",
       "      <td>25</td>\n",
       "      <td>MIA</td>\n",
       "      <td>75</td>\n",
       "      <td>75</td>\n",
       "      <td>34.6</td>\n",
       "      <td>8.0</td>\n",
       "      <td>14.9</td>\n",
       "      <td>0.540</td>\n",
       "      <td>0.0</td>\n",
       "      <td>0.2</td>\n",
       "      <td>0.083</td>\n",
       "      <td>8.0</td>\n",
       "      <td>14.7</td>\n",
       "      <td>0.545</td>\n",
       "      <td>0.541</td>\n",
       "      <td>4.3</td>\n",
       "      <td>5.4</td>\n",
       "      <td>0.806</td>\n",
       "      <td>2.5</td>\n",
       "      <td>6.7</td>\n",
       "      <td>9.2</td>\n",
       "      <td>3.2</td>\n",
       "      <td>1.2</td>\n",
       "      <td>0.8</td>\n",
       "      <td>2.5</td>\n",
       "      <td>2.8</td>\n",
       "      <td>20.4</td>\n",
       "    </tr>\n",
       "    <tr>\n",
       "      <th>3</th>\n",
       "      <td>Ochai Agbaji</td>\n",
       "      <td>SG</td>\n",
       "      <td>22</td>\n",
       "      <td>UTA</td>\n",
       "      <td>59</td>\n",
       "      <td>22</td>\n",
       "      <td>20.5</td>\n",
       "      <td>2.8</td>\n",
       "      <td>6.5</td>\n",
       "      <td>0.427</td>\n",
       "      <td>1.4</td>\n",
       "      <td>3.9</td>\n",
       "      <td>0.355</td>\n",
       "      <td>1.4</td>\n",
       "      <td>2.7</td>\n",
       "      <td>0.532</td>\n",
       "      <td>0.532</td>\n",
       "      <td>0.9</td>\n",
       "      <td>1.2</td>\n",
       "      <td>0.812</td>\n",
       "      <td>0.7</td>\n",
       "      <td>1.3</td>\n",
       "      <td>2.1</td>\n",
       "      <td>1.1</td>\n",
       "      <td>0.3</td>\n",
       "      <td>0.3</td>\n",
       "      <td>0.7</td>\n",
       "      <td>1.7</td>\n",
       "      <td>7.9</td>\n",
       "    </tr>\n",
       "    <tr>\n",
       "      <th>4</th>\n",
       "      <td>Santi Aldama</td>\n",
       "      <td>PF</td>\n",
       "      <td>22</td>\n",
       "      <td>MEM</td>\n",
       "      <td>77</td>\n",
       "      <td>20</td>\n",
       "      <td>21.8</td>\n",
       "      <td>3.2</td>\n",
       "      <td>6.8</td>\n",
       "      <td>0.470</td>\n",
       "      <td>1.2</td>\n",
       "      <td>3.5</td>\n",
       "      <td>0.353</td>\n",
       "      <td>2.0</td>\n",
       "      <td>3.4</td>\n",
       "      <td>0.591</td>\n",
       "      <td>0.560</td>\n",
       "      <td>1.4</td>\n",
       "      <td>1.9</td>\n",
       "      <td>0.750</td>\n",
       "      <td>1.1</td>\n",
       "      <td>3.7</td>\n",
       "      <td>4.8</td>\n",
       "      <td>1.3</td>\n",
       "      <td>0.6</td>\n",
       "      <td>0.6</td>\n",
       "      <td>0.8</td>\n",
       "      <td>1.9</td>\n",
       "      <td>9.0</td>\n",
       "    </tr>\n",
       "    <tr>\n",
       "      <th>5</th>\n",
       "      <td>Nickeil Alexander-Walker</td>\n",
       "      <td>SG</td>\n",
       "      <td>24</td>\n",
       "      <td>TOT</td>\n",
       "      <td>59</td>\n",
       "      <td>3</td>\n",
       "      <td>15.0</td>\n",
       "      <td>2.2</td>\n",
       "      <td>5.0</td>\n",
       "      <td>0.444</td>\n",
       "      <td>1.0</td>\n",
       "      <td>2.7</td>\n",
       "      <td>0.384</td>\n",
       "      <td>1.2</td>\n",
       "      <td>2.3</td>\n",
       "      <td>0.515</td>\n",
       "      <td>0.547</td>\n",
       "      <td>0.7</td>\n",
       "      <td>1.0</td>\n",
       "      <td>0.667</td>\n",
       "      <td>0.3</td>\n",
       "      <td>1.5</td>\n",
       "      <td>1.7</td>\n",
       "      <td>1.8</td>\n",
       "      <td>0.5</td>\n",
       "      <td>0.4</td>\n",
       "      <td>0.9</td>\n",
       "      <td>1.5</td>\n",
       "      <td>6.2</td>\n",
       "    </tr>\n",
       "    <tr>\n",
       "      <th>6</th>\n",
       "      <td>Grayson Allen</td>\n",
       "      <td>SG</td>\n",
       "      <td>27</td>\n",
       "      <td>MIL</td>\n",
       "      <td>72</td>\n",
       "      <td>70</td>\n",
       "      <td>27.4</td>\n",
       "      <td>3.4</td>\n",
       "      <td>7.7</td>\n",
       "      <td>0.440</td>\n",
       "      <td>2.0</td>\n",
       "      <td>5.1</td>\n",
       "      <td>0.399</td>\n",
       "      <td>1.4</td>\n",
       "      <td>2.7</td>\n",
       "      <td>0.518</td>\n",
       "      <td>0.571</td>\n",
       "      <td>1.6</td>\n",
       "      <td>1.8</td>\n",
       "      <td>0.905</td>\n",
       "      <td>0.8</td>\n",
       "      <td>2.4</td>\n",
       "      <td>3.3</td>\n",
       "      <td>2.3</td>\n",
       "      <td>0.9</td>\n",
       "      <td>0.2</td>\n",
       "      <td>1.0</td>\n",
       "      <td>1.6</td>\n",
       "      <td>10.4</td>\n",
       "    </tr>\n",
       "    <tr>\n",
       "      <th>7</th>\n",
       "      <td>Jarrett Allen</td>\n",
       "      <td>C</td>\n",
       "      <td>24</td>\n",
       "      <td>CLE</td>\n",
       "      <td>68</td>\n",
       "      <td>68</td>\n",
       "      <td>32.6</td>\n",
       "      <td>5.9</td>\n",
       "      <td>9.2</td>\n",
       "      <td>0.644</td>\n",
       "      <td>0.0</td>\n",
       "      <td>0.1</td>\n",
       "      <td>0.100</td>\n",
       "      <td>5.9</td>\n",
       "      <td>9.1</td>\n",
       "      <td>0.653</td>\n",
       "      <td>0.645</td>\n",
       "      <td>2.4</td>\n",
       "      <td>3.3</td>\n",
       "      <td>0.733</td>\n",
       "      <td>3.3</td>\n",
       "      <td>6.5</td>\n",
       "      <td>9.8</td>\n",
       "      <td>1.7</td>\n",
       "      <td>0.8</td>\n",
       "      <td>1.2</td>\n",
       "      <td>1.4</td>\n",
       "      <td>2.3</td>\n",
       "      <td>14.3</td>\n",
       "    </tr>\n",
       "    <tr>\n",
       "      <th>8</th>\n",
       "      <td>Jose Alvarado</td>\n",
       "      <td>PG</td>\n",
       "      <td>24</td>\n",
       "      <td>NOP</td>\n",
       "      <td>61</td>\n",
       "      <td>10</td>\n",
       "      <td>21.5</td>\n",
       "      <td>3.3</td>\n",
       "      <td>8.0</td>\n",
       "      <td>0.411</td>\n",
       "      <td>1.4</td>\n",
       "      <td>4.0</td>\n",
       "      <td>0.336</td>\n",
       "      <td>1.9</td>\n",
       "      <td>4.0</td>\n",
       "      <td>0.488</td>\n",
       "      <td>0.496</td>\n",
       "      <td>1.1</td>\n",
       "      <td>1.3</td>\n",
       "      <td>0.813</td>\n",
       "      <td>0.5</td>\n",
       "      <td>1.9</td>\n",
       "      <td>2.3</td>\n",
       "      <td>3.0</td>\n",
       "      <td>1.1</td>\n",
       "      <td>0.2</td>\n",
       "      <td>1.3</td>\n",
       "      <td>2.0</td>\n",
       "      <td>9.0</td>\n",
       "    </tr>\n",
       "    <tr>\n",
       "      <th>9</th>\n",
       "      <td>Kyle Anderson</td>\n",
       "      <td>PF</td>\n",
       "      <td>29</td>\n",
       "      <td>MIN</td>\n",
       "      <td>69</td>\n",
       "      <td>46</td>\n",
       "      <td>28.4</td>\n",
       "      <td>3.7</td>\n",
       "      <td>7.2</td>\n",
       "      <td>0.509</td>\n",
       "      <td>0.6</td>\n",
       "      <td>1.5</td>\n",
       "      <td>0.410</td>\n",
       "      <td>3.0</td>\n",
       "      <td>5.7</td>\n",
       "      <td>0.536</td>\n",
       "      <td>0.553</td>\n",
       "      <td>1.4</td>\n",
       "      <td>2.0</td>\n",
       "      <td>0.735</td>\n",
       "      <td>1.0</td>\n",
       "      <td>4.4</td>\n",
       "      <td>5.3</td>\n",
       "      <td>4.9</td>\n",
       "      <td>1.1</td>\n",
       "      <td>0.9</td>\n",
       "      <td>1.5</td>\n",
       "      <td>2.1</td>\n",
       "      <td>9.4</td>\n",
       "    </tr>\n",
       "  </tbody>\n",
       "</table>\n",
       "</div>"
      ],
      "text/plain": [
       "                     Player Pos  Age   Tm   G  GS    MP   FG   FGA    FG%  \\\n",
       "0          Precious Achiuwa   C   23  TOR  55  12  20.7  3.6   7.3  0.485   \n",
       "1              Steven Adams   C   29  MEM  42  42  27.0  3.7   6.3  0.597   \n",
       "2               Bam Adebayo   C   25  MIA  75  75  34.6  8.0  14.9  0.540   \n",
       "3              Ochai Agbaji  SG   22  UTA  59  22  20.5  2.8   6.5  0.427   \n",
       "4              Santi Aldama  PF   22  MEM  77  20  21.8  3.2   6.8  0.470   \n",
       "5  Nickeil Alexander-Walker  SG   24  TOT  59   3  15.0  2.2   5.0  0.444   \n",
       "6             Grayson Allen  SG   27  MIL  72  70  27.4  3.4   7.7  0.440   \n",
       "7             Jarrett Allen   C   24  CLE  68  68  32.6  5.9   9.2  0.644   \n",
       "8             Jose Alvarado  PG   24  NOP  61  10  21.5  3.3   8.0  0.411   \n",
       "9             Kyle Anderson  PF   29  MIN  69  46  28.4  3.7   7.2  0.509   \n",
       "\n",
       "    3P  3PA    3P%   2P   2PA    2P%   eFG%   FT  FTA    FT%  ORB  DRB   TRB  \\\n",
       "0  0.5  2.0  0.269  3.0   5.4  0.564  0.521  1.6  2.3  0.702  1.8  4.1   6.0   \n",
       "1  0.0  0.0  0.000  3.7   6.2  0.599  0.597  1.1  3.1  0.364  5.1  6.5  11.5   \n",
       "2  0.0  0.2  0.083  8.0  14.7  0.545  0.541  4.3  5.4  0.806  2.5  6.7   9.2   \n",
       "3  1.4  3.9  0.355  1.4   2.7  0.532  0.532  0.9  1.2  0.812  0.7  1.3   2.1   \n",
       "4  1.2  3.5  0.353  2.0   3.4  0.591  0.560  1.4  1.9  0.750  1.1  3.7   4.8   \n",
       "5  1.0  2.7  0.384  1.2   2.3  0.515  0.547  0.7  1.0  0.667  0.3  1.5   1.7   \n",
       "6  2.0  5.1  0.399  1.4   2.7  0.518  0.571  1.6  1.8  0.905  0.8  2.4   3.3   \n",
       "7  0.0  0.1  0.100  5.9   9.1  0.653  0.645  2.4  3.3  0.733  3.3  6.5   9.8   \n",
       "8  1.4  4.0  0.336  1.9   4.0  0.488  0.496  1.1  1.3  0.813  0.5  1.9   2.3   \n",
       "9  0.6  1.5  0.410  3.0   5.7  0.536  0.553  1.4  2.0  0.735  1.0  4.4   5.3   \n",
       "\n",
       "   AST  STL  BLK  TOV   PF   PTS  \n",
       "0  0.9  0.6  0.5  1.1  1.9   9.2  \n",
       "1  2.3  0.9  1.1  1.9  2.3   8.6  \n",
       "2  3.2  1.2  0.8  2.5  2.8  20.4  \n",
       "3  1.1  0.3  0.3  0.7  1.7   7.9  \n",
       "4  1.3  0.6  0.6  0.8  1.9   9.0  \n",
       "5  1.8  0.5  0.4  0.9  1.5   6.2  \n",
       "6  2.3  0.9  0.2  1.0  1.6  10.4  \n",
       "7  1.7  0.8  1.2  1.4  2.3  14.3  \n",
       "8  3.0  1.1  0.2  1.3  2.0   9.0  \n",
       "9  4.9  1.1  0.9  1.5  2.1   9.4  "
      ]
     },
     "execution_count": 19,
     "metadata": {},
     "output_type": "execute_result"
    }
   ],
   "source": [
    "# Visualiza uma amostra dos dados\n",
    "pd.set_option('display.max_columns', None) #Para mostrar todas as colunas\n",
    "df_nba.head(10)"
   ]
  },
  {
   "cell_type": "markdown",
   "metadata": {},
   "source": [
    "**Dicionário de Dados** (conforme mostrado na fonte de dados):\n",
    "\n",
    "- Rk -- Rank\n",
    "- Pos -- Position\n",
    "- Age -- Player's age on February 1 of the season\n",
    "- Tm -- Team\n",
    "- G -- Games\n",
    "- GS -- Games Started\n",
    "- MP -- Minutes Played Per Game\n",
    "- FG -- Field Goals Per Game\n",
    "- FGA -- Field Goal Attempts Per Game\n",
    "- FG% -- Field Goal Percentage\n",
    "- 3P -- 3-Point Field Goals Per Game\n",
    "- 3PA -- 3-Point Field Goal Attempts Per Game\n",
    "- 3P% -- 3-Point Field Goal Percentage\n",
    "- 2P -- 2-Point Field Goals Per Game\n",
    "- 2PA -- 2-Point Field Goal Attempts Per Game\n",
    "- 2P% -- 2-Point Field Goal Percentage\n",
    "- eFG% -- Effective Field Goal Percentage\n",
    "\n",
    "Essa estatística se ajusta ao fato de que uma cesta de 3 pontos vale 1 ponto a mais do que uma cesta de 2 pontos.\n",
    "\n",
    "- FT -- Free Throws Per Game\n",
    "- FTA -- Free Throw Attempts Per Game\n",
    "- FT% -- Free Throw Percentage\n",
    "- ORB -- Offensive Rebounds Per Game\n",
    "- DRB -- Defensive Rebounds Per Game\n",
    "- TRB -- Total Rebounds Per Game\n",
    "- AST -- Assists Per Game\n",
    "- STL -- Steals Per Game\n",
    "- BLK -- Blocks Per Game\n",
    "- TOV -- Turnovers Per Game\n",
    "- PF -- Personal Fouls Per Game\n",
    "- PTS -- Points Per Game"
   ]
  },
  {
   "cell_type": "markdown",
   "metadata": {},
   "source": [
    "### Qual a idade média dos jogadores que disputaram a temporada 2022/2023 da NBA?"
   ]
  },
  {
   "cell_type": "code",
   "execution_count": 20,
   "metadata": {},
   "outputs": [
    {
     "data": {
      "text/plain": [
       "25.908883826879272"
      ]
     },
     "execution_count": 20,
     "metadata": {},
     "output_type": "execute_result"
    }
   ],
   "source": [
    "# Idade média dos jogadores\n",
    "df_nba['Age'].mean()"
   ]
  },
  {
   "cell_type": "markdown",
   "metadata": {},
   "source": [
    "A idade média foi de 26 anos. E agora, um histograma para analisar a distribuição da variável idade."
   ]
  },
  {
   "cell_type": "code",
   "execution_count": 21,
   "metadata": {},
   "outputs": [
    {
     "data": {
      "text/plain": [
       "<AxesSubplot:>"
      ]
     },
     "execution_count": 21,
     "metadata": {},
     "output_type": "execute_result"
    },
    {
     "data": {
      "image/png": "[encoded data removed]",
      "text/plain": [
       "<Figure size 640x480 with 1 Axes>"
      ]
     },
     "metadata": {},
     "output_type": "display_data"
    }
   ],
   "source": [
    "# Histograma\n",
    "df_nba['Age'].hist()"
   ]
  },
  {
   "cell_type": "code",
   "execution_count": 22,
   "metadata": {},
   "outputs": [
    {
     "data": {
      "image/png": "[encoded data removed]",
      "text/plain": [
       "<Figure size 640x480 with 1 Axes>"
      ]
     },
     "metadata": {},
     "output_type": "display_data"
    }
   ],
   "source": [
    "# BoxPlot\n",
    "ax = sns.boxplot(x = df_nba['Age'], palette = \"Set2\", orient = \"h\")\n",
    "plt.ylabel('\\nAtletas')\n",
    "plt.xlabel('\\nIdade')\n",
    "plt.show()"
   ]
  },
  {
   "cell_type": "markdown",
   "metadata": {},
   "source": [
    "Claramente a idade média dos atletas está acima dos 25 anos e percebemos a presença de alguns outliers."
   ]
  },
  {
   "cell_type": "code",
   "execution_count": 23,
   "metadata": {},
   "outputs": [
    {
     "data": {
      "text/html": [
       "<div>\n",
       "<style scoped>\n",
       "    .dataframe tbody tr th:only-of-type {\n",
       "        vertical-align: middle;\n",
       "    }\n",
       "\n",
       "    .dataframe tbody tr th {\n",
       "        vertical-align: top;\n",
       "    }\n",
       "\n",
       "    .dataframe thead th {\n",
       "        text-align: right;\n",
       "    }\n",
       "</style>\n",
       "<table border=\"1\" class=\"dataframe\">\n",
       "  <thead>\n",
       "    <tr style=\"text-align: right;\">\n",
       "      <th></th>\n",
       "      <th>Age</th>\n",
       "      <th>G</th>\n",
       "      <th>GS</th>\n",
       "      <th>MP</th>\n",
       "      <th>FG</th>\n",
       "      <th>FGA</th>\n",
       "      <th>FG%</th>\n",
       "      <th>3P</th>\n",
       "      <th>3PA</th>\n",
       "      <th>3P%</th>\n",
       "      <th>2P</th>\n",
       "      <th>2PA</th>\n",
       "      <th>2P%</th>\n",
       "      <th>eFG%</th>\n",
       "      <th>FT</th>\n",
       "      <th>FTA</th>\n",
       "      <th>FT%</th>\n",
       "      <th>ORB</th>\n",
       "      <th>DRB</th>\n",
       "      <th>TRB</th>\n",
       "      <th>AST</th>\n",
       "      <th>STL</th>\n",
       "      <th>BLK</th>\n",
       "      <th>TOV</th>\n",
       "      <th>PF</th>\n",
       "      <th>PTS</th>\n",
       "    </tr>\n",
       "  </thead>\n",
       "  <tbody>\n",
       "    <tr>\n",
       "      <th>count</th>\n",
       "      <td>439.0</td>\n",
       "      <td>439.0</td>\n",
       "      <td>439.0</td>\n",
       "      <td>439.0</td>\n",
       "      <td>439.0</td>\n",
       "      <td>439.0</td>\n",
       "      <td>438.0</td>\n",
       "      <td>439.0</td>\n",
       "      <td>439.0</td>\n",
       "      <td>426.0</td>\n",
       "      <td>439.0</td>\n",
       "      <td>439.0</td>\n",
       "      <td>436.0</td>\n",
       "      <td>438.0</td>\n",
       "      <td>439.0</td>\n",
       "      <td>439.0</td>\n",
       "      <td>421.0</td>\n",
       "      <td>439.0</td>\n",
       "      <td>439.0</td>\n",
       "      <td>439.0</td>\n",
       "      <td>439.0</td>\n",
       "      <td>439.0</td>\n",
       "      <td>439.0</td>\n",
       "      <td>439.0</td>\n",
       "      <td>439.0</td>\n",
       "      <td>439.0</td>\n",
       "    </tr>\n",
       "    <tr>\n",
       "      <th>mean</th>\n",
       "      <td>26.0</td>\n",
       "      <td>49.0</td>\n",
       "      <td>23.0</td>\n",
       "      <td>20.0</td>\n",
       "      <td>3.0</td>\n",
       "      <td>7.0</td>\n",
       "      <td>0.0</td>\n",
       "      <td>1.0</td>\n",
       "      <td>3.0</td>\n",
       "      <td>0.0</td>\n",
       "      <td>2.0</td>\n",
       "      <td>4.0</td>\n",
       "      <td>1.0</td>\n",
       "      <td>1.0</td>\n",
       "      <td>1.0</td>\n",
       "      <td>2.0</td>\n",
       "      <td>1.0</td>\n",
       "      <td>1.0</td>\n",
       "      <td>3.0</td>\n",
       "      <td>4.0</td>\n",
       "      <td>2.0</td>\n",
       "      <td>1.0</td>\n",
       "      <td>0.0</td>\n",
       "      <td>1.0</td>\n",
       "      <td>2.0</td>\n",
       "      <td>9.0</td>\n",
       "    </tr>\n",
       "    <tr>\n",
       "      <th>std</th>\n",
       "      <td>4.0</td>\n",
       "      <td>24.0</td>\n",
       "      <td>27.0</td>\n",
       "      <td>10.0</td>\n",
       "      <td>2.0</td>\n",
       "      <td>5.0</td>\n",
       "      <td>0.0</td>\n",
       "      <td>1.0</td>\n",
       "      <td>2.0</td>\n",
       "      <td>0.0</td>\n",
       "      <td>2.0</td>\n",
       "      <td>4.0</td>\n",
       "      <td>0.0</td>\n",
       "      <td>0.0</td>\n",
       "      <td>2.0</td>\n",
       "      <td>2.0</td>\n",
       "      <td>0.0</td>\n",
       "      <td>1.0</td>\n",
       "      <td>2.0</td>\n",
       "      <td>2.0</td>\n",
       "      <td>2.0</td>\n",
       "      <td>0.0</td>\n",
       "      <td>0.0</td>\n",
       "      <td>1.0</td>\n",
       "      <td>1.0</td>\n",
       "      <td>7.0</td>\n",
       "    </tr>\n",
       "    <tr>\n",
       "      <th>min</th>\n",
       "      <td>19.0</td>\n",
       "      <td>1.0</td>\n",
       "      <td>0.0</td>\n",
       "      <td>1.0</td>\n",
       "      <td>0.0</td>\n",
       "      <td>0.0</td>\n",
       "      <td>0.0</td>\n",
       "      <td>0.0</td>\n",
       "      <td>0.0</td>\n",
       "      <td>0.0</td>\n",
       "      <td>0.0</td>\n",
       "      <td>0.0</td>\n",
       "      <td>0.0</td>\n",
       "      <td>0.0</td>\n",
       "      <td>0.0</td>\n",
       "      <td>0.0</td>\n",
       "      <td>0.0</td>\n",
       "      <td>0.0</td>\n",
       "      <td>0.0</td>\n",
       "      <td>0.0</td>\n",
       "      <td>0.0</td>\n",
       "      <td>0.0</td>\n",
       "      <td>0.0</td>\n",
       "      <td>0.0</td>\n",
       "      <td>0.0</td>\n",
       "      <td>0.0</td>\n",
       "    </tr>\n",
       "    <tr>\n",
       "      <th>25%</th>\n",
       "      <td>23.0</td>\n",
       "      <td>31.0</td>\n",
       "      <td>1.0</td>\n",
       "      <td>12.0</td>\n",
       "      <td>2.0</td>\n",
       "      <td>3.0</td>\n",
       "      <td>0.0</td>\n",
       "      <td>0.0</td>\n",
       "      <td>1.0</td>\n",
       "      <td>0.0</td>\n",
       "      <td>1.0</td>\n",
       "      <td>2.0</td>\n",
       "      <td>0.0</td>\n",
       "      <td>0.0</td>\n",
       "      <td>0.0</td>\n",
       "      <td>1.0</td>\n",
       "      <td>1.0</td>\n",
       "      <td>0.0</td>\n",
       "      <td>1.0</td>\n",
       "      <td>2.0</td>\n",
       "      <td>1.0</td>\n",
       "      <td>0.0</td>\n",
       "      <td>0.0</td>\n",
       "      <td>0.0</td>\n",
       "      <td>1.0</td>\n",
       "      <td>4.0</td>\n",
       "    </tr>\n",
       "    <tr>\n",
       "      <th>50%</th>\n",
       "      <td>25.0</td>\n",
       "      <td>56.0</td>\n",
       "      <td>7.0</td>\n",
       "      <td>19.0</td>\n",
       "      <td>2.0</td>\n",
       "      <td>6.0</td>\n",
       "      <td>0.0</td>\n",
       "      <td>1.0</td>\n",
       "      <td>2.0</td>\n",
       "      <td>0.0</td>\n",
       "      <td>2.0</td>\n",
       "      <td>3.0</td>\n",
       "      <td>1.0</td>\n",
       "      <td>1.0</td>\n",
       "      <td>1.0</td>\n",
       "      <td>1.0</td>\n",
       "      <td>1.0</td>\n",
       "      <td>1.0</td>\n",
       "      <td>2.0</td>\n",
       "      <td>3.0</td>\n",
       "      <td>1.0</td>\n",
       "      <td>1.0</td>\n",
       "      <td>0.0</td>\n",
       "      <td>1.0</td>\n",
       "      <td>2.0</td>\n",
       "      <td>7.0</td>\n",
       "    </tr>\n",
       "    <tr>\n",
       "      <th>75%</th>\n",
       "      <td>29.0</td>\n",
       "      <td>68.0</td>\n",
       "      <td>50.0</td>\n",
       "      <td>28.0</td>\n",
       "      <td>5.0</td>\n",
       "      <td>10.0</td>\n",
       "      <td>1.0</td>\n",
       "      <td>2.0</td>\n",
       "      <td>4.0</td>\n",
       "      <td>0.0</td>\n",
       "      <td>3.0</td>\n",
       "      <td>6.0</td>\n",
       "      <td>1.0</td>\n",
       "      <td>1.0</td>\n",
       "      <td>2.0</td>\n",
       "      <td>2.0</td>\n",
       "      <td>1.0</td>\n",
       "      <td>1.0</td>\n",
       "      <td>4.0</td>\n",
       "      <td>4.0</td>\n",
       "      <td>3.0</td>\n",
       "      <td>1.0</td>\n",
       "      <td>0.0</td>\n",
       "      <td>2.0</td>\n",
       "      <td>2.0</td>\n",
       "      <td>12.0</td>\n",
       "    </tr>\n",
       "    <tr>\n",
       "      <th>max</th>\n",
       "      <td>42.0</td>\n",
       "      <td>83.0</td>\n",
       "      <td>83.0</td>\n",
       "      <td>41.0</td>\n",
       "      <td>11.0</td>\n",
       "      <td>22.0</td>\n",
       "      <td>1.0</td>\n",
       "      <td>5.0</td>\n",
       "      <td>11.0</td>\n",
       "      <td>1.0</td>\n",
       "      <td>10.0</td>\n",
       "      <td>18.0</td>\n",
       "      <td>1.0</td>\n",
       "      <td>1.0</td>\n",
       "      <td>10.0</td>\n",
       "      <td>12.0</td>\n",
       "      <td>1.0</td>\n",
       "      <td>5.0</td>\n",
       "      <td>10.0</td>\n",
       "      <td>12.0</td>\n",
       "      <td>11.0</td>\n",
       "      <td>3.0</td>\n",
       "      <td>3.0</td>\n",
       "      <td>4.0</td>\n",
       "      <td>5.0</td>\n",
       "      <td>33.0</td>\n",
       "    </tr>\n",
       "  </tbody>\n",
       "</table>\n",
       "</div>"
      ],
      "text/plain": [
       "         Age      G     GS     MP     FG    FGA    FG%     3P    3PA    3P%  \\\n",
       "count  439.0  439.0  439.0  439.0  439.0  439.0  438.0  439.0  439.0  426.0   \n",
       "mean    26.0   49.0   23.0   20.0    3.0    7.0    0.0    1.0    3.0    0.0   \n",
       "std      4.0   24.0   27.0   10.0    2.0    5.0    0.0    1.0    2.0    0.0   \n",
       "min     19.0    1.0    0.0    1.0    0.0    0.0    0.0    0.0    0.0    0.0   \n",
       "25%     23.0   31.0    1.0   12.0    2.0    3.0    0.0    0.0    1.0    0.0   \n",
       "50%     25.0   56.0    7.0   19.0    2.0    6.0    0.0    1.0    2.0    0.0   \n",
       "75%     29.0   68.0   50.0   28.0    5.0   10.0    1.0    2.0    4.0    0.0   \n",
       "max     42.0   83.0   83.0   41.0   11.0   22.0    1.0    5.0   11.0    1.0   \n",
       "\n",
       "          2P    2PA    2P%   eFG%     FT    FTA    FT%    ORB    DRB    TRB  \\\n",
       "count  439.0  439.0  436.0  438.0  439.0  439.0  421.0  439.0  439.0  439.0   \n",
       "mean     2.0    4.0    1.0    1.0    1.0    2.0    1.0    1.0    3.0    4.0   \n",
       "std      2.0    4.0    0.0    0.0    2.0    2.0    0.0    1.0    2.0    2.0   \n",
       "min      0.0    0.0    0.0    0.0    0.0    0.0    0.0    0.0    0.0    0.0   \n",
       "25%      1.0    2.0    0.0    0.0    0.0    1.0    1.0    0.0    1.0    2.0   \n",
       "50%      2.0    3.0    1.0    1.0    1.0    1.0    1.0    1.0    2.0    3.0   \n",
       "75%      3.0    6.0    1.0    1.0    2.0    2.0    1.0    1.0    4.0    4.0   \n",
       "max     10.0   18.0    1.0    1.0   10.0   12.0    1.0    5.0   10.0   12.0   \n",
       "\n",
       "         AST    STL    BLK    TOV     PF    PTS  \n",
       "count  439.0  439.0  439.0  439.0  439.0  439.0  \n",
       "mean     2.0    1.0    0.0    1.0    2.0    9.0  \n",
       "std      2.0    0.0    0.0    1.0    1.0    7.0  \n",
       "min      0.0    0.0    0.0    0.0    0.0    0.0  \n",
       "25%      1.0    0.0    0.0    0.0    1.0    4.0  \n",
       "50%      1.0    1.0    0.0    1.0    2.0    7.0  \n",
       "75%      3.0    1.0    0.0    2.0    2.0   12.0  \n",
       "max     11.0    3.0    3.0    4.0    5.0   33.0  "
      ]
     },
     "execution_count": 23,
     "metadata": {},
     "output_type": "execute_result"
    }
   ],
   "source": [
    "# Calcula e arredonda estatísticas descritivas das colunas numéricas\n",
    "pd.set_option('display.max_columns', None)\n",
    "df_nba.describe().round()"
   ]
  },
  {
   "cell_type": "markdown",
   "metadata": {},
   "source": [
    "### Quais são os jogadores com maior número de pontos por jogo? Selecione os Top 10."
   ]
  },
  {
   "cell_type": "code",
   "execution_count": 24,
   "metadata": {},
   "outputs": [],
   "source": [
    "# Agrupando os dados por jogador e total de pontos\n",
    "df_nba_top10 = df_nba.groupby(['Player'])['PTS'].sum().reset_index().rename(columns = {'PTS': 'Total_Pontos'})"
   ]
  },
  {
   "cell_type": "code",
   "execution_count": 25,
   "metadata": {},
   "outputs": [],
   "source": [
    "# Retornamos os Top 10\n",
    "df_nba_top10 = df_nba_top10.nlargest(10, 'Total_Pontos')"
   ]
  },
  {
   "cell_type": "code",
   "execution_count": 26,
   "metadata": {},
   "outputs": [
    {
     "data": {
      "text/html": [
       "<div>\n",
       "<style scoped>\n",
       "    .dataframe tbody tr th:only-of-type {\n",
       "        vertical-align: middle;\n",
       "    }\n",
       "\n",
       "    .dataframe tbody tr th {\n",
       "        vertical-align: top;\n",
       "    }\n",
       "\n",
       "    .dataframe thead th {\n",
       "        text-align: right;\n",
       "    }\n",
       "</style>\n",
       "<table border=\"1\" class=\"dataframe\">\n",
       "  <thead>\n",
       "    <tr style=\"text-align: right;\">\n",
       "      <th></th>\n",
       "      <th>Player</th>\n",
       "      <th>Total_Pontos</th>\n",
       "    </tr>\n",
       "  </thead>\n",
       "  <tbody>\n",
       "    <tr>\n",
       "      <th>198</th>\n",
       "      <td>Joel Embiid</td>\n",
       "      <td>33.1</td>\n",
       "    </tr>\n",
       "    <tr>\n",
       "      <th>274</th>\n",
       "      <td>Luka Dončić</td>\n",
       "      <td>32.4</td>\n",
       "    </tr>\n",
       "    <tr>\n",
       "      <th>77</th>\n",
       "      <td>Damian Lillard</td>\n",
       "      <td>32.2</td>\n",
       "    </tr>\n",
       "    <tr>\n",
       "      <th>376</th>\n",
       "      <td>Shai Gilgeous-Alexander</td>\n",
       "      <td>31.4</td>\n",
       "    </tr>\n",
       "    <tr>\n",
       "      <th>135</th>\n",
       "      <td>Giannis Antetokounmpo</td>\n",
       "      <td>31.1</td>\n",
       "    </tr>\n",
       "    <tr>\n",
       "      <th>383</th>\n",
       "      <td>Stephen Curry</td>\n",
       "      <td>29.4</td>\n",
       "    </tr>\n",
       "    <tr>\n",
       "      <th>248</th>\n",
       "      <td>Kevin Durant</td>\n",
       "      <td>29.1</td>\n",
       "    </tr>\n",
       "    <tr>\n",
       "      <th>269</th>\n",
       "      <td>LeBron James</td>\n",
       "      <td>28.9</td>\n",
       "    </tr>\n",
       "    <tr>\n",
       "      <th>111</th>\n",
       "      <td>Donovan Mitchell</td>\n",
       "      <td>28.3</td>\n",
       "    </tr>\n",
       "    <tr>\n",
       "      <th>104</th>\n",
       "      <td>Devin Booker</td>\n",
       "      <td>27.8</td>\n",
       "    </tr>\n",
       "  </tbody>\n",
       "</table>\n",
       "</div>"
      ],
      "text/plain": [
       "                      Player  Total_Pontos\n",
       "198              Joel Embiid          33.1\n",
       "274              Luka Dončić          32.4\n",
       "77            Damian Lillard          32.2\n",
       "376  Shai Gilgeous-Alexander          31.4\n",
       "135    Giannis Antetokounmpo          31.1\n",
       "383            Stephen Curry          29.4\n",
       "248             Kevin Durant          29.1\n",
       "269             LeBron James          28.9\n",
       "111         Donovan Mitchell          28.3\n",
       "104             Devin Booker          27.8"
      ]
     },
     "execution_count": 26,
     "metadata": {},
     "output_type": "execute_result"
    }
   ],
   "source": [
    "# Visualiza os dados\n",
    "df_nba_top10"
   ]
  },
  {
   "cell_type": "markdown",
   "metadata": {},
   "source": [
    "### Quantos jogos os jogadores com 35 anos de idade ou mais iniciaram (variável GS)?"
   ]
  },
  {
   "cell_type": "code",
   "execution_count": 27,
   "metadata": {},
   "outputs": [],
   "source": [
    "# Função\n",
    "# O loop percorre cada linha do df_nba, verifica se o jogador tem 35 anos ou mais, e se for o caso, \n",
    "# imprimi o nome do jogador e a quantidade de jogos.\n",
    "def lista_jogadores35():\n",
    "    print('\\nJogadores com 35 ou mais anos de idade e jogos disputados.\\n')\n",
    "    print('Jogador:          | Jogos:')\n",
    "    print('------------------+--------')\n",
    "    for index, row in df_nba.iterrows():\n",
    "        if row['Age'] >= 35:\n",
    "            print('{:<17} | {:>6}'.format(row['Player'], row['GS']))"
   ]
  },
  {
   "cell_type": "code",
   "execution_count": 28,
   "metadata": {
    "scrolled": false
   },
   "outputs": [
    {
     "name": "stdout",
     "output_type": "stream",
     "text": [
      "\n",
      "Jogadores com 35 ou mais anos de idade e jogos disputados.\n",
      "\n",
      "Jogador:          | Jogos:\n",
      "------------------+--------\n",
      "Mike Conley       |     66\n",
      "Goran Dragić      |      0\n",
      "Rudy Gay          |      0\n",
      "Taj Gibson        |      2\n",
      "Danny Green       |      0\n",
      "Jeff Green        |      4\n",
      "Udonis Haslem     |      1\n",
      "George Hill       |      1\n",
      "Al Horford        |     63\n",
      "Andre Iguodala    |      0\n",
      "Joe Ingles        |      0\n",
      "LeBron James      |     54\n",
      "James Johnson     |      1\n",
      "Kyle Lowry        |     44\n",
      "Wesley Matthews   |      0\n",
      "JaVale McGee      |      7\n",
      "Chris Paul        |     59\n"
     ]
    }
   ],
   "source": [
    "# Executa a função\n",
    "lista_jogadores35()"
   ]
  },
  {
   "cell_type": "markdown",
   "metadata": {},
   "source": [
    "### Gráfico que mostra a relação entre rebotes ofensivos e minutos jogados. \n",
    "\n",
    "O que podemos concluir a partir do gráfico?"
   ]
  },
  {
   "cell_type": "code",
   "execution_count": 29,
   "metadata": {},
   "outputs": [],
   "source": [
    "# Função\n",
    "def gera_grafico_reb_ofensivos():\n",
    "    plt.figure(figsize = [10,10])\n",
    "    sns.set()\n",
    "    sns.regplot(x = df_nba['MP'], y = df_nba['ORB'], color = '#AA2F2F', marker = '+')\n",
    "    plt.xlabel('\\nMinutos Jogados (por jogo)\\n', fontsize = 14, color = 'black')\n",
    "    plt.ylabel('\\nRebotes Ofensivos (por jogo)\\n', fontsize = 14, color = 'black')\n",
    "    plt.title('\\nMinutos Jogados x Rebotes Ofensivos\\n', fontsize = 20)\n",
    "    plt.show()"
   ]
  },
  {
   "cell_type": "code",
   "execution_count": 30,
   "metadata": {},
   "outputs": [
    {
     "data": {
      "image/png": "[encoded data removed]",
      "text/plain": [
       "<Figure size 1000x1000 with 1 Axes>"
      ]
     },
     "metadata": {},
     "output_type": "display_data"
    }
   ],
   "source": [
    "# Executa a função\n",
    "gera_grafico_reb_ofensivos()"
   ]
  },
  {
   "cell_type": "markdown",
   "metadata": {},
   "source": [
    "Aumenta a dispersão dos dados à media que aumenta o número de minutos jogados. Ou seja, com os jogadores mais cansados ao final do jogo é mais difícil fazer rebotes ofensivos."
   ]
  },
  {
   "cell_type": "markdown",
   "metadata": {},
   "source": [
    "### Gráfico que mostra a relação entre rebotes defensivos e minutos jogados. \n",
    "\n",
    "O que podemos concluir a partir do gráfico?"
   ]
  },
  {
   "cell_type": "code",
   "execution_count": 31,
   "metadata": {},
   "outputs": [],
   "source": [
    "# Função\n",
    "def gera_grafico_reb_defensivos():\n",
    "    plt.figure(figsize = [10,10])\n",
    "    sns.set()\n",
    "    sns.regplot(x = df_nba['MP'], y = df_nba['DRB'], color = 'orange', marker = '*')\n",
    "    plt.xlabel('\\nMinutos Jogados (por jogo)\\n', fontsize = 14, color = 'black')\n",
    "    plt.ylabel('\\nRebotes Defensivos (por jogo)\\n', fontsize = 14, color = 'black')\n",
    "    plt.title('\\nMinutos Jogados x Rebotes Defensivos\\n', fontsize = 20)\n",
    "    plt.show()"
   ]
  },
  {
   "cell_type": "code",
   "execution_count": 32,
   "metadata": {},
   "outputs": [
    {
     "data": {
      "image/png": "[encoded data removed]",
      "text/plain": [
       "<Figure size 1000x1000 with 1 Axes>"
      ]
     },
     "metadata": {},
     "output_type": "display_data"
    }
   ],
   "source": [
    "# Executa a função\n",
    "gera_grafico_reb_defensivos()"
   ]
  },
  {
   "cell_type": "markdown",
   "metadata": {},
   "source": [
    "O comportamento dos rebotes desensivos segue um padrão diferente dos rebotes ofensivos. Mais ao final do jogo, as equipes itensificam suas defesas e consequentemente aumenta o número de rebotes defensivos."
   ]
  },
  {
   "cell_type": "markdown",
   "metadata": {},
   "source": [
    "# Fim"
   ]
  }
 ],
 "metadata": {
  "kernelspec": {
   "display_name": "Python 3 (ipykernel)",
   "language": "python",
   "name": "python3"
  },
  "language_info": {
   "codemirror_mode": {
    "name": "ipython",
    "version": 3
   },
   "file_extension": ".py",
   "mimetype": "text/x-python",
   "name": "python",
   "nbconvert_exporter": "python",
   "pygments_lexer": "ipython3",
   "version": "3.9.13"
  }
 },
 "nbformat": 4,
 "nbformat_minor": 2
}
