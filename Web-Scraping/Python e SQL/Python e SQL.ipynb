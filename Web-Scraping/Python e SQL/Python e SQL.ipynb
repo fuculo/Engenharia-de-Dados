{
 "cells": [
  {
   "cell_type": "markdown",
   "metadata": {},
   "source": [
    "<strong><b><font size=\"5\">Web Scraping e Análise de Dados</font></b></strong>"
   ]
  },
  {
   "cell_type": "markdown",
   "metadata": {},
   "source": [
    "<strong><b><font size=\"4\">Extração, Armazenamento e Análise com Web Scraping, Banco de Dados e Linguagem SQL</font></b></strong>"
   ]
  },
  {
   "cell_type": "markdown",
   "metadata": {},
   "source": [
    "## Fonte de Dados\n",
    "\n",
    "https://www.worldwildlife.org/species/directory"
   ]
  },
  {
   "cell_type": "markdown",
   "metadata": {},
   "source": [
    "## Carregando os Pacotes Usados Neste Jupyter Notebook"
   ]
  },
  {
   "cell_type": "code",
   "execution_count": 1,
   "metadata": {},
   "outputs": [
    {
     "name": "stdout",
     "output_type": "stream",
     "text": [
      "Versão da Linguagem Python Usada Neste Jupyter Notebook: 3.9.13\n"
     ]
    }
   ],
   "source": [
    "# Versão da Linguagem Python\n",
    "from platform import python_version\n",
    "print('Versão da Linguagem Python Usada Neste Jupyter Notebook:', python_version())"
   ]
  },
  {
   "cell_type": "code",
   "execution_count": 2,
   "metadata": {},
   "outputs": [],
   "source": [
    "# Para atualizar um pacote, execute o comando abaixo no terminal ou prompt de comando:\n",
    "# pip install -U nome_pacote\n",
    "\n",
    "# Para instalar a versão exata de um pacote, execute o comando abaixo no terminal ou prompt de comando:\n",
    "# pip install nome_pacote==versão_desejada\n",
    "\n",
    "# Depois de instalar ou atualizar o pacote, reinicie o jupyter notebook, se necessário."
   ]
  },
  {
   "cell_type": "code",
   "execution_count": 3,
   "metadata": {},
   "outputs": [],
   "source": [
    "# Instala o pacote watermark. \n",
    "# Esse pacote é usado para gravar as versões de outros pacotes usados neste jupyter notebook.\n",
    "!pip install -q -U watermark"
   ]
  },
  {
   "cell_type": "code",
   "execution_count": 4,
   "metadata": {},
   "outputs": [],
   "source": [
    "# Imports\n",
    "import sqlite3 #fornece interface SQL.\n",
    "import requests #enviar requisições HTTP.\n",
    "import lxml.html #fornece uma interface para processamento de documentos XML e HTML.\n",
    "import numpy as np #realizar cálculos numéricos e manipulação de arrays multidimensionais.\n",
    "import pandas as pd #"
   ]
  },
  {
   "cell_type": "code",
   "execution_count": 5,
   "metadata": {},
   "outputs": [
    {
     "name": "stdout",
     "output_type": "stream",
     "text": [
      "Author: Filipe Fúculo\n",
      "\n",
      "numpy   : 1.21.5\n",
      "pandas  : 1.4.4\n",
      "sqlite3 : 2.6.0\n",
      "requests: 2.28.1\n",
      "lxml    : 4.9.1\n",
      "\n"
     ]
    }
   ],
   "source": [
    "# Versões dos pacotes usados neste jupyter notebook\n",
    "%reload_ext watermark\n",
    "%watermark -a \"Filipe Fúculo\" --iversions"
   ]
  },
  {
   "cell_type": "markdown",
   "metadata": {},
   "source": [
    "## Web Scraping"
   ]
  },
  {
   "cell_type": "code",
   "execution_count": 6,
   "metadata": {},
   "outputs": [],
   "source": [
    "# Cria variável para requisição à página\n",
    "request_web = requests.get(\"https://www.worldwildlife.org/species/directory\")"
   ]
  },
  {
   "cell_type": "code",
   "execution_count": 7,
   "metadata": {},
   "outputs": [
    {
     "data": {
      "text/plain": [
       "<Response [200]>"
      ]
     },
     "execution_count": 7,
     "metadata": {},
     "output_type": "execute_result"
    }
   ],
   "source": [
    "# Visualiza a resposta (200 indica resposta de conexão Ok)\n",
    "request_web"
   ]
  },
  {
   "cell_type": "code",
   "execution_count": 8,
   "metadata": {},
   "outputs": [
    {
     "data": {
      "text/plain": [
       "requests.models.Response"
      ]
     },
     "execution_count": 8,
     "metadata": {},
     "output_type": "execute_result"
    }
   ],
   "source": [
    "type(request_web)"
   ]
  },
  {
   "cell_type": "code",
   "execution_count": 9,
   "metadata": {},
   "outputs": [],
   "source": [
    "# Vamos extrair o código HTML da página e converter em xml para facilitar a manipulação e formatação\n",
    "#\"lxml.html.fromstring\" cria um objeto elemento a partir de uma str contendo HTML e cria uma representação em forma de árvore.\n",
    "html_to_xml = lxml.html.fromstring(request_web.text)"
   ]
  },
  {
   "cell_type": "code",
   "execution_count": 10,
   "metadata": {},
   "outputs": [
    {
     "data": {
      "text/plain": [
       "<Element html at 0x1c64afad680>"
      ]
     },
     "execution_count": 10,
     "metadata": {},
     "output_type": "execute_result"
    }
   ],
   "source": [
    "# Visualiza\n",
    "html_to_xml"
   ]
  },
  {
   "cell_type": "markdown",
   "metadata": {},
   "source": [
    "O site tem uma tabela, com **< thead >** e **< tbody >**, ambos com **< tr >**, e esse código extrairá todas as linhas da tabela de uma só vez:"
   ]
  },
  {
   "cell_type": "code",
   "execution_count": 11,
   "metadata": {
    "scrolled": true
   },
   "outputs": [],
   "source": [
    "# Extrai todas as linhas\n",
    "trow = html_to_xml.xpath('//tr') "
   ]
  },
  {
   "cell_type": "code",
   "execution_count": 12,
   "metadata": {},
   "outputs": [
    {
     "data": {
      "text/plain": [
       "[<Element tr at 0x1c64af91a90>]"
      ]
     },
     "execution_count": 12,
     "metadata": {},
     "output_type": "execute_result"
    }
   ],
   "source": [
    "# Tipo do elemento\n",
    "trow[:1]"
   ]
  },
  {
   "cell_type": "markdown",
   "metadata": {},
   "source": [
    "Verificamos se todas as linhas têm o mesmo comprimento, se sim, são da mesma tabela."
   ]
  },
  {
   "cell_type": "code",
   "execution_count": 13,
   "metadata": {
    "scrolled": true
   },
   "outputs": [
    {
     "data": {
      "text/plain": [
       "[3, 3, 3, 3, 3, 3, 3, 3, 3, 3]"
      ]
     },
     "execution_count": 13,
     "metadata": {},
     "output_type": "execute_result"
    }
   ],
   "source": [
    "# Verifica o comprimento das linhas\n",
    "[len(T) for T in trow[:10]]"
   ]
  },
  {
   "cell_type": "markdown",
   "metadata": {},
   "source": [
    "É melhor extrair a tabela usando a tag **< tbody >**, em vez da tag **< tr >**, pois assim extraímos a tabela formatada."
   ]
  },
  {
   "cell_type": "code",
   "execution_count": 14,
   "metadata": {},
   "outputs": [],
   "source": [
    "# Extrai os dados da tabela \n",
    "tr = html_to_xml.xpath('//tbody') "
   ]
  },
  {
   "cell_type": "code",
   "execution_count": 15,
   "metadata": {},
   "outputs": [
    {
     "data": {
      "text/plain": [
       "[<Element tbody at 0x1c64afb5b80>]"
      ]
     },
     "execution_count": 15,
     "metadata": {},
     "output_type": "execute_result"
    }
   ],
   "source": [
    "# Tipo do elemento\n",
    "tr"
   ]
  },
  {
   "cell_type": "code",
   "execution_count": 16,
   "metadata": {},
   "outputs": [
    {
     "data": {
      "text/plain": [
       "50"
      ]
     },
     "execution_count": 16,
     "metadata": {},
     "output_type": "execute_result"
    }
   ],
   "source": [
    "# Verificamos quantos itens temos na tabela\n",
    "len(tr[0].getchildren())"
   ]
  },
  {
   "cell_type": "code",
   "execution_count": 17,
   "metadata": {},
   "outputs": [
    {
     "data": {
      "text/plain": [
       "50"
      ]
     },
     "execution_count": 17,
     "metadata": {},
     "output_type": "execute_result"
    }
   ],
   "source": [
    "# Este código faz a mesma coisa que o anterior\n",
    "tablebody = tr[0]\n",
    "len(tablebody)"
   ]
  },
  {
   "cell_type": "code",
   "execution_count": 18,
   "metadata": {},
   "outputs": [
    {
     "data": {
      "text/plain": [
       "'\\nAfrican Elephant\\nLoxodonta africana\\n\\n'"
      ]
     },
     "execution_count": 18,
     "metadata": {},
     "output_type": "execute_result"
    }
   ],
   "source": [
    "# Agora vamos obter o texto de 1 item da tabela\n",
    "tablebody.getchildren()[0].text_content()"
   ]
  },
  {
   "cell_type": "markdown",
   "metadata": {},
   "source": [
    "Temos 3 termos (3 colunas). Podemos então usar o código abaixo para retornar cada coluna de uma linha da tabela, como exemplo."
   ]
  },
  {
   "cell_type": "code",
   "execution_count": 19,
   "metadata": {},
   "outputs": [
    {
     "data": {
      "text/plain": [
       "[<Element td at 0x1c64afc5db0>,\n",
       " <Element td at 0x1c64afc5680>,\n",
       " <Element td at 0x1c64afc5ea0>]"
      ]
     },
     "execution_count": 19,
     "metadata": {},
     "output_type": "execute_result"
    }
   ],
   "source": [
    "# Extrai colunas de uma linha\n",
    "tablebody.getchildren()[0].getchildren()"
   ]
  },
  {
   "cell_type": "code",
   "execution_count": 20,
   "metadata": {},
   "outputs": [
    {
     "name": "stdout",
     "output_type": "stream",
     "text": [
      "African Elephant\n",
      "Loxodonta africana\n",
      "\n"
     ]
    }
   ],
   "source": [
    "# Um print para cada item\n",
    "print(tablebody.getchildren()[0].getchildren()[0].text_content())\n",
    "print(tablebody.getchildren()[0].getchildren()[1].text_content())\n",
    "print(tablebody.getchildren()[0].getchildren()[2].text_content())"
   ]
  },
  {
   "cell_type": "markdown",
   "metadata": {},
   "source": [
    "Vamos extrair uma amostra dos dados."
   ]
  },
  {
   "cell_type": "code",
   "execution_count": 21,
   "metadata": {
    "scrolled": true
   },
   "outputs": [],
   "source": [
    "# Dicionário para amostra de dados\n",
    "data_sample = {\"Common name\"         :[], \n",
    "               \"Scientific name\"     :[],\n",
    "               \"Conservation status\" :[]}"
   ]
  },
  {
   "cell_type": "code",
   "execution_count": 22,
   "metadata": {},
   "outputs": [],
   "source": [
    "# Loop pela tabela para extrair uma amostra de dados\n",
    "for row in tablebody.getchildren()[0:3]:\n",
    "    data_sample[\"Common name\"].append(row.getchildren()[0].text_content())\n",
    "    data_sample[\"Scientific name\"].append(row.getchildren()[1].text_content())\n",
    "    data_sample[\"Conservation status\"].append(row.getchildren()[2].text_content())"
   ]
  },
  {
   "cell_type": "code",
   "execution_count": 23,
   "metadata": {
    "scrolled": true
   },
   "outputs": [
    {
     "data": {
      "text/plain": [
       "{'Common name': ['African Elephant',\n",
       "  'African forest elephant',\n",
       "  'African savanna elephant'],\n",
       " 'Scientific name': ['Loxodonta africana', '', 'Loxodonta africana africana'],\n",
       " 'Conservation status': ['', 'Critically Endangered', 'Endangered']}"
      ]
     },
     "execution_count": 23,
     "metadata": {},
     "output_type": "execute_result"
    }
   ],
   "source": [
    "# Visualiza amostra de dados\n",
    "data_sample"
   ]
  },
  {
   "cell_type": "code",
   "execution_count": 24,
   "metadata": {},
   "outputs": [
    {
     "data": {
      "text/html": [
       "<div>\n",
       "<style scoped>\n",
       "    .dataframe tbody tr th:only-of-type {\n",
       "        vertical-align: middle;\n",
       "    }\n",
       "\n",
       "    .dataframe tbody tr th {\n",
       "        vertical-align: top;\n",
       "    }\n",
       "\n",
       "    .dataframe thead th {\n",
       "        text-align: right;\n",
       "    }\n",
       "</style>\n",
       "<table border=\"1\" class=\"dataframe\">\n",
       "  <thead>\n",
       "    <tr style=\"text-align: right;\">\n",
       "      <th></th>\n",
       "      <th>Common name</th>\n",
       "      <th>Scientific name</th>\n",
       "      <th>Conservation status</th>\n",
       "    </tr>\n",
       "  </thead>\n",
       "  <tbody>\n",
       "    <tr>\n",
       "      <th>0</th>\n",
       "      <td>African Elephant</td>\n",
       "      <td>Loxodonta africana</td>\n",
       "      <td></td>\n",
       "    </tr>\n",
       "    <tr>\n",
       "      <th>1</th>\n",
       "      <td>African forest elephant</td>\n",
       "      <td></td>\n",
       "      <td>Critically Endangered</td>\n",
       "    </tr>\n",
       "    <tr>\n",
       "      <th>2</th>\n",
       "      <td>African savanna elephant</td>\n",
       "      <td>Loxodonta africana africana</td>\n",
       "      <td>Endangered</td>\n",
       "    </tr>\n",
       "  </tbody>\n",
       "</table>\n",
       "</div>"
      ],
      "text/plain": [
       "                Common name              Scientific name  \\\n",
       "0          African Elephant           Loxodonta africana   \n",
       "1   African forest elephant                                \n",
       "2  African savanna elephant  Loxodonta africana africana   \n",
       "\n",
       "     Conservation status  \n",
       "0                         \n",
       "1  Critically Endangered  \n",
       "2             Endangered  "
      ]
     },
     "execution_count": 24,
     "metadata": {},
     "output_type": "execute_result"
    }
   ],
   "source": [
    "# Convertemos a amostra de dados (dicionário) para dataframe do Pandas\n",
    "pd.DataFrame(data_sample)"
   ]
  },
  {
   "cell_type": "markdown",
   "metadata": {},
   "source": [
    "Agora armazenamos todos os dados no dicionário Python."
   ]
  },
  {
   "cell_type": "code",
   "execution_count": 25,
   "metadata": {
    "scrolled": false
   },
   "outputs": [],
   "source": [
    "# Dicionário para receber todos os dados\n",
    "data = {\"Common name\"         :[],\n",
    "        \"Scientific name\"     :[],\n",
    "        \"Conservation status\" :[]}"
   ]
  },
  {
   "cell_type": "code",
   "execution_count": 26,
   "metadata": {},
   "outputs": [],
   "source": [
    "# Loop para extrair todos os dados da tabela\n",
    "for row in tablebody.getchildren():\n",
    "    data[\"Common name\"].append(row.getchildren()[0].text_content().strip())\n",
    "    data[\"Scientific name\"].append(row.getchildren()[1].text_content().strip())\n",
    "    data[\"Conservation status\"].append(row.getchildren()[2].text_content().strip())      "
   ]
  },
  {
   "cell_type": "code",
   "execution_count": 27,
   "metadata": {},
   "outputs": [
    {
     "data": {
      "text/html": [
       "<div>\n",
       "<style scoped>\n",
       "    .dataframe tbody tr th:only-of-type {\n",
       "        vertical-align: middle;\n",
       "    }\n",
       "\n",
       "    .dataframe tbody tr th {\n",
       "        vertical-align: top;\n",
       "    }\n",
       "\n",
       "    .dataframe thead th {\n",
       "        text-align: right;\n",
       "    }\n",
       "</style>\n",
       "<table border=\"1\" class=\"dataframe\">\n",
       "  <thead>\n",
       "    <tr style=\"text-align: right;\">\n",
       "      <th></th>\n",
       "      <th>Common name</th>\n",
       "      <th>Scientific name</th>\n",
       "      <th>Conservation status</th>\n",
       "    </tr>\n",
       "  </thead>\n",
       "  <tbody>\n",
       "    <tr>\n",
       "      <th>0</th>\n",
       "      <td>African Elephant</td>\n",
       "      <td>Loxodonta africana</td>\n",
       "      <td></td>\n",
       "    </tr>\n",
       "    <tr>\n",
       "      <th>1</th>\n",
       "      <td>African forest elephant</td>\n",
       "      <td></td>\n",
       "      <td>Critically Endangered</td>\n",
       "    </tr>\n",
       "    <tr>\n",
       "      <th>2</th>\n",
       "      <td>African savanna elephant</td>\n",
       "      <td>Loxodonta africana africana</td>\n",
       "      <td>Endangered</td>\n",
       "    </tr>\n",
       "    <tr>\n",
       "      <th>3</th>\n",
       "      <td>African Wild Dog</td>\n",
       "      <td>Lycaon pictus</td>\n",
       "      <td>Endangered</td>\n",
       "    </tr>\n",
       "    <tr>\n",
       "      <th>4</th>\n",
       "      <td>Albacore Tuna</td>\n",
       "      <td>Thunnus alalunga</td>\n",
       "      <td>Near Threatened</td>\n",
       "    </tr>\n",
       "    <tr>\n",
       "      <th>5</th>\n",
       "      <td>Amazon River Dolphin</td>\n",
       "      <td>Scientific Name Inia geoffrensis</td>\n",
       "      <td></td>\n",
       "    </tr>\n",
       "    <tr>\n",
       "      <th>6</th>\n",
       "      <td>Amur Leopard</td>\n",
       "      <td>Panthera pardus orientalis</td>\n",
       "      <td>Critically Endangered</td>\n",
       "    </tr>\n",
       "    <tr>\n",
       "      <th>7</th>\n",
       "      <td>Arctic Fox</td>\n",
       "      <td>Vulpes lagopus</td>\n",
       "      <td>Least Concern</td>\n",
       "    </tr>\n",
       "    <tr>\n",
       "      <th>8</th>\n",
       "      <td>Arctic Wolf</td>\n",
       "      <td>Canis lupus arctos</td>\n",
       "      <td>Least Concern</td>\n",
       "    </tr>\n",
       "    <tr>\n",
       "      <th>9</th>\n",
       "      <td>Asian Elephant</td>\n",
       "      <td>Elephas maximus indicus</td>\n",
       "      <td>Endangered</td>\n",
       "    </tr>\n",
       "  </tbody>\n",
       "</table>\n",
       "</div>"
      ],
      "text/plain": [
       "                Common name                   Scientific name  \\\n",
       "0          African Elephant                Loxodonta africana   \n",
       "1   African forest elephant                                     \n",
       "2  African savanna elephant       Loxodonta africana africana   \n",
       "3          African Wild Dog                     Lycaon pictus   \n",
       "4             Albacore Tuna                  Thunnus alalunga   \n",
       "5      Amazon River Dolphin  Scientific Name Inia geoffrensis   \n",
       "6              Amur Leopard        Panthera pardus orientalis   \n",
       "7                Arctic Fox                    Vulpes lagopus   \n",
       "8               Arctic Wolf                Canis lupus arctos   \n",
       "9            Asian Elephant           Elephas maximus indicus   \n",
       "\n",
       "     Conservation status  \n",
       "0                         \n",
       "1  Critically Endangered  \n",
       "2             Endangered  \n",
       "3             Endangered  \n",
       "4        Near Threatened  \n",
       "5                         \n",
       "6  Critically Endangered  \n",
       "7          Least Concern  \n",
       "8          Least Concern  \n",
       "9             Endangered  "
      ]
     },
     "execution_count": 27,
     "metadata": {},
     "output_type": "execute_result"
    }
   ],
   "source": [
    "# Converte para dataframe do pandas e visualiza\n",
    "pd.DataFrame(data).head(10)"
   ]
  },
  {
   "cell_type": "code",
   "execution_count": 28,
   "metadata": {},
   "outputs": [],
   "source": [
    "# Criamos o dataframe\n",
    "df = pd.DataFrame(data)   "
   ]
  },
  {
   "cell_type": "code",
   "execution_count": 29,
   "metadata": {},
   "outputs": [],
   "source": [
    "# Substituímos valores ausentes por NaN\n",
    "# (inplace = True) indica que a substituição deve ser feita diretamente no DataFrame df, em vez de retornar um novo DataFrame com as substituições.\n",
    "df.replace('', np.nan, inplace = True)"
   ]
  },
  {
   "cell_type": "code",
   "execution_count": 30,
   "metadata": {
    "scrolled": false
   },
   "outputs": [
    {
     "name": "stdout",
     "output_type": "stream",
     "text": [
      "('African Elephant', 'Loxodonta africana', nan)\n",
      "('African forest elephant', nan, 'Critically Endangered')\n",
      "('African savanna elephant', 'Loxodonta africana africana', 'Endangered')\n",
      "('African Wild Dog', 'Lycaon pictus', 'Endangered')\n",
      "('Albacore Tuna', 'Thunnus alalunga', 'Near Threatened')\n",
      "('Amazon River Dolphin', 'Scientific Name Inia geoffrensis', nan)\n",
      "('Amur Leopard', 'Panthera pardus orientalis', 'Critically Endangered')\n",
      "('Arctic Fox', 'Vulpes lagopus', 'Least Concern')\n",
      "('Arctic Wolf', 'Canis lupus arctos', 'Least Concern')\n",
      "('Asian Elephant', 'Elephas maximus indicus', 'Endangered')\n",
      "('Beluga', 'Delphinapterus leucas', 'Near Threatened')\n",
      "('Bigeye Tuna', 'Thunnus obesus', 'Vulnerable')\n",
      "('Black Rhino', 'Diceros bicornis', 'Critically Endangered')\n",
      "('Black Spider Monkey', 'Ateles paniscus', 'Vulnerable')\n",
      "('Black-footed Ferret', 'Mustela nigripes', 'Endangered')\n",
      "('Blue Whale', 'Balaenoptera musculus', 'Endangered')\n",
      "('Bluefin Tuna', 'Thunnus Thynnus', 'Endangered')\n",
      "('Bonobo', 'Pan paniscus', 'Endangered')\n",
      "('Bornean Elephant', 'Elephas maximus borneensis', 'Endangered')\n",
      "('Bornean Orangutan', 'Pongo pygmaeus', 'Critically Endangered')\n",
      "('Bowhead Whale', 'Balaena mysticetus', 'Least Concern')\n",
      "('Brown Bear', 'Ursus arctos', 'Least Concern')\n",
      "('Chimpanzee', 'Pan troglodytes', 'Endangered')\n",
      "('Common Bottlenose Dolphin', 'Tursiops truncates', 'Least Concern')\n",
      "('Continental Tiger', 'Panthera tigris tigris', nan)\n",
      "('Cross River Gorilla', 'Gorilla gorilla diehli', 'Critically Endangered')\n",
      "('Dolphins and Porpoises', nan, nan)\n",
      "('Dugong', 'Dugong dugon', 'Vulnerable')\n",
      "('Eastern Lowland Gorilla', 'Gorilla beringei graueri', 'Critically Endangered')\n",
      "('Elephant', nan, nan)\n",
      "('Fin Whale', 'Balaenoptera physalus', 'Endangered')\n",
      "('Galápagos Penguin', 'Spheniscus mendiculus', 'Endangered')\n",
      "('Ganges River Dolphin', 'Platanista gangetica gangetica', 'Endangered')\n",
      "('Giant Panda', 'Ailuropoda melanoleuca', 'Vulnerable')\n",
      "('Giant Tortoise', nan, 'Vulnerable')\n",
      "('Gorilla', 'Gorilla gorilla and Gorilla beringei', nan)\n",
      "('Gray Whale', 'Eschrichtius robustus', 'Least Concern')\n",
      "('Great White Shark', 'Carcharodon carcharias', 'Vulnerable')\n",
      "('Greater One-Horned Rhino', 'Rhinoceros unicornis', 'Vulnerable')\n",
      "('Greater Sage-Grouse', 'Centrocercus urophasianus', 'Near Threatened')\n",
      "('Green Turtle', 'Chelonia mydas', 'Endangered')\n",
      "('Hawksbill Turtle', 'Eretmochelys imbricata', 'Critically Endangered')\n",
      "(\"Hector's Dolphin\", 'Cephalorhynchus hectori', 'Endangered')\n",
      "('Hippopotamus', 'Hippopotamus amphibius', 'Vulnerable')\n",
      "('Humphead Wrasse', 'Cheilinus undulatus', 'Endangered')\n",
      "('Indian Elephant', 'Elephas maximus indicus', 'Endangered')\n",
      "('Indus River Dolphin', 'Platanista minor', 'Endangered')\n",
      "('Irrawaddy Dolphin', 'Orcaella brevirostris', 'Endangered')\n",
      "('Jaguar', 'Panthera onca', 'Near Threatened')\n",
      "('Javan Rhino', 'Rhinoceros sondaicus', 'Critically Endangered')\n"
     ]
    }
   ],
   "source": [
    "# Iteração pelos itens e impressão na tela\n",
    "for i in df.itertuples():\n",
    "    print(i[1:])"
   ]
  },
  {
   "cell_type": "markdown",
   "metadata": {},
   "source": [
    "## Armazenamento em Banco de Dados e Linguagem SQL"
   ]
  },
  {
   "cell_type": "markdown",
   "metadata": {},
   "source": [
    "Para usar o módulo sqlite3, primeiramente, devemos criar um objeto de conexão que represente o banco de dados e, opcionalmente, criar um objeto cursor, que o ajudará na execução de todas as instruções SQL.\n",
    "\n",
    "Mais detalhes em: https://www.sqlite.org/index.html"
   ]
  },
  {
   "cell_type": "code",
   "execution_count": 31,
   "metadata": {},
   "outputs": [],
   "source": [
    "# Cria conexão ao banco de dados sqlite que será criado somente na memória (não salva o banco de dados em disco)\n",
    "conn = sqlite3.connect(\":memory:\")"
   ]
  },
  {
   "cell_type": "code",
   "execution_count": 32,
   "metadata": {},
   "outputs": [],
   "source": [
    "# Cria o cursor\n",
    "# Cursor é um objeto que permite percorrer e manipular um conjunto de resultados obtidos de uma consulta em um banco de dados.\n",
    "cursor = conn.cursor()"
   ]
  },
  {
   "cell_type": "code",
   "execution_count": 33,
   "metadata": {},
   "outputs": [],
   "source": [
    "# Cria a instrução SQL para criação de tabela no banco de dados\n",
    "sql1 = \"\"\" CREATE TABLE SPECIES(Common_name PRIMARY KEY NOT NULL, Scientific_name, Conservation_status) \"\"\""
   ]
  },
  {
   "cell_type": "markdown",
   "metadata": {},
   "source": [
    "Usamos NOT NULL para as restrições de não permitir NULL nos registros da coluna Common_name. Uma coluna de chave primária não pode ter valores NULL. A palavra-chave PRIMARY em um banco de dados relacional indica que cada linha na coluna é exclusiva."
   ]
  },
  {
   "cell_type": "code",
   "execution_count": 34,
   "metadata": {},
   "outputs": [
    {
     "data": {
      "text/plain": [
       "<sqlite3.Cursor at 0x1c64aff75e0>"
      ]
     },
     "execution_count": 34,
     "metadata": {},
     "output_type": "execute_result"
    }
   ],
   "source": [
    "# Executa a instrução SQL\n",
    "cursor.execute(sql1)"
   ]
  },
  {
   "cell_type": "code",
   "execution_count": 35,
   "metadata": {},
   "outputs": [],
   "source": [
    "# Loop pelos dados extraídos da web e inserção na tabela do banco de dados\n",
    "for rec in df.itertuples():\n",
    "    \n",
    "    # Instrução SQL de Insert\n",
    "    insert_table = \"\"\" INSERT INTO SPECIES(Common_name, Scientific_name, Conservation_status) VALUES (?,?,?) \"\"\"\n",
    "    \n",
    "    # Executa a instução\n",
    "    cursor.execute(insert_table, rec[1:5])"
   ]
  },
  {
   "cell_type": "code",
   "execution_count": 36,
   "metadata": {},
   "outputs": [],
   "source": [
    "# O commit grava os dados no banco de dados \n",
    "conn.commit()"
   ]
  },
  {
   "cell_type": "markdown",
   "metadata": {},
   "source": [
    "Vamos consultar os dados armazenados na tabela em memória."
   ]
  },
  {
   "cell_type": "code",
   "execution_count": 37,
   "metadata": {},
   "outputs": [],
   "source": [
    "# Cria query para selecionar os dados na tabela do banco de dados\n",
    "# Aspas duplas triplas pode definir uma string que abrange várias linhas sem a necessidade de escapar caracteres especiais ou usar a concatenação de strings.\n",
    "query1 = \"\"\" SELECT * FROM SPECIES \"\"\""
   ]
  },
  {
   "cell_type": "code",
   "execution_count": 38,
   "metadata": {
    "scrolled": false
   },
   "outputs": [],
   "source": [
    "# Executa a query\n",
    "resultado1 = cursor.execute(query1)"
   ]
  },
  {
   "cell_type": "code",
   "execution_count": 39,
   "metadata": {},
   "outputs": [
    {
     "name": "stdout",
     "output_type": "stream",
     "text": [
      "Common_name =  African Elephant\n",
      "Scientific_name =  Loxodonta africana\n",
      "Conservation_status =  None \n",
      "\n",
      "Common_name =  African forest elephant\n",
      "Scientific_name =  None\n",
      "Conservation_status =  Critically Endangered \n",
      "\n",
      "Common_name =  African savanna elephant\n",
      "Scientific_name =  Loxodonta africana africana\n",
      "Conservation_status =  Endangered \n",
      "\n",
      "Common_name =  African Wild Dog\n",
      "Scientific_name =  Lycaon pictus\n",
      "Conservation_status =  Endangered \n",
      "\n",
      "Common_name =  Albacore Tuna\n",
      "Scientific_name =  Thunnus alalunga\n",
      "Conservation_status =  Near Threatened \n",
      "\n",
      "Common_name =  Amazon River Dolphin\n",
      "Scientific_name =  Scientific Name Inia geoffrensis\n",
      "Conservation_status =  None \n",
      "\n",
      "Common_name =  Amur Leopard\n",
      "Scientific_name =  Panthera pardus orientalis\n",
      "Conservation_status =  Critically Endangered \n",
      "\n",
      "Common_name =  Arctic Fox\n",
      "Scientific_name =  Vulpes lagopus\n",
      "Conservation_status =  Least Concern \n",
      "\n",
      "Common_name =  Arctic Wolf\n",
      "Scientific_name =  Canis lupus arctos\n",
      "Conservation_status =  Least Concern \n",
      "\n",
      "Common_name =  Asian Elephant\n",
      "Scientific_name =  Elephas maximus indicus\n",
      "Conservation_status =  Endangered \n",
      "\n",
      "Common_name =  Beluga\n",
      "Scientific_name =  Delphinapterus leucas\n",
      "Conservation_status =  Near Threatened \n",
      "\n",
      "Common_name =  Bigeye Tuna\n",
      "Scientific_name =  Thunnus obesus\n",
      "Conservation_status =  Vulnerable \n",
      "\n",
      "Common_name =  Black Rhino\n",
      "Scientific_name =  Diceros bicornis\n",
      "Conservation_status =  Critically Endangered \n",
      "\n",
      "Common_name =  Black Spider Monkey\n",
      "Scientific_name =  Ateles paniscus\n",
      "Conservation_status =  Vulnerable \n",
      "\n",
      "Common_name =  Black-footed Ferret\n",
      "Scientific_name =  Mustela nigripes\n",
      "Conservation_status =  Endangered \n",
      "\n",
      "Common_name =  Blue Whale\n",
      "Scientific_name =  Balaenoptera musculus\n",
      "Conservation_status =  Endangered \n",
      "\n",
      "Common_name =  Bluefin Tuna\n",
      "Scientific_name =  Thunnus Thynnus\n",
      "Conservation_status =  Endangered \n",
      "\n",
      "Common_name =  Bonobo\n",
      "Scientific_name =  Pan paniscus\n",
      "Conservation_status =  Endangered \n",
      "\n",
      "Common_name =  Bornean Elephant\n",
      "Scientific_name =  Elephas maximus borneensis\n",
      "Conservation_status =  Endangered \n",
      "\n",
      "Common_name =  Bornean Orangutan\n",
      "Scientific_name =  Pongo pygmaeus\n",
      "Conservation_status =  Critically Endangered \n",
      "\n",
      "Common_name =  Bowhead Whale\n",
      "Scientific_name =  Balaena mysticetus\n",
      "Conservation_status =  Least Concern \n",
      "\n",
      "Common_name =  Brown Bear\n",
      "Scientific_name =  Ursus arctos\n",
      "Conservation_status =  Least Concern \n",
      "\n",
      "Common_name =  Chimpanzee\n",
      "Scientific_name =  Pan troglodytes\n",
      "Conservation_status =  Endangered \n",
      "\n",
      "Common_name =  Common Bottlenose Dolphin\n",
      "Scientific_name =  Tursiops truncates\n",
      "Conservation_status =  Least Concern \n",
      "\n",
      "Common_name =  Continental Tiger\n",
      "Scientific_name =  Panthera tigris tigris\n",
      "Conservation_status =  None \n",
      "\n",
      "Common_name =  Cross River Gorilla\n",
      "Scientific_name =  Gorilla gorilla diehli\n",
      "Conservation_status =  Critically Endangered \n",
      "\n",
      "Common_name =  Dolphins and Porpoises\n",
      "Scientific_name =  None\n",
      "Conservation_status =  None \n",
      "\n",
      "Common_name =  Dugong\n",
      "Scientific_name =  Dugong dugon\n",
      "Conservation_status =  Vulnerable \n",
      "\n",
      "Common_name =  Eastern Lowland Gorilla\n",
      "Scientific_name =  Gorilla beringei graueri\n",
      "Conservation_status =  Critically Endangered \n",
      "\n",
      "Common_name =  Elephant\n",
      "Scientific_name =  None\n",
      "Conservation_status =  None \n",
      "\n",
      "Common_name =  Fin Whale\n",
      "Scientific_name =  Balaenoptera physalus\n",
      "Conservation_status =  Endangered \n",
      "\n",
      "Common_name =  Galápagos Penguin\n",
      "Scientific_name =  Spheniscus mendiculus\n",
      "Conservation_status =  Endangered \n",
      "\n",
      "Common_name =  Ganges River Dolphin\n",
      "Scientific_name =  Platanista gangetica gangetica\n",
      "Conservation_status =  Endangered \n",
      "\n",
      "Common_name =  Giant Panda\n",
      "Scientific_name =  Ailuropoda melanoleuca\n",
      "Conservation_status =  Vulnerable \n",
      "\n",
      "Common_name =  Giant Tortoise\n",
      "Scientific_name =  None\n",
      "Conservation_status =  Vulnerable \n",
      "\n",
      "Common_name =  Gorilla\n",
      "Scientific_name =  Gorilla gorilla and Gorilla beringei\n",
      "Conservation_status =  None \n",
      "\n",
      "Common_name =  Gray Whale\n",
      "Scientific_name =  Eschrichtius robustus\n",
      "Conservation_status =  Least Concern \n",
      "\n",
      "Common_name =  Great White Shark\n",
      "Scientific_name =  Carcharodon carcharias\n",
      "Conservation_status =  Vulnerable \n",
      "\n",
      "Common_name =  Greater One-Horned Rhino\n",
      "Scientific_name =  Rhinoceros unicornis\n",
      "Conservation_status =  Vulnerable \n",
      "\n",
      "Common_name =  Greater Sage-Grouse\n",
      "Scientific_name =  Centrocercus urophasianus\n",
      "Conservation_status =  Near Threatened \n",
      "\n",
      "Common_name =  Green Turtle\n",
      "Scientific_name =  Chelonia mydas\n",
      "Conservation_status =  Endangered \n",
      "\n",
      "Common_name =  Hawksbill Turtle\n",
      "Scientific_name =  Eretmochelys imbricata\n",
      "Conservation_status =  Critically Endangered \n",
      "\n",
      "Common_name =  Hector's Dolphin\n",
      "Scientific_name =  Cephalorhynchus hectori\n",
      "Conservation_status =  Endangered \n",
      "\n",
      "Common_name =  Hippopotamus\n",
      "Scientific_name =  Hippopotamus amphibius\n",
      "Conservation_status =  Vulnerable \n",
      "\n",
      "Common_name =  Humphead Wrasse\n",
      "Scientific_name =  Cheilinus undulatus\n",
      "Conservation_status =  Endangered \n",
      "\n",
      "Common_name =  Indian Elephant\n",
      "Scientific_name =  Elephas maximus indicus\n",
      "Conservation_status =  Endangered \n",
      "\n",
      "Common_name =  Indus River Dolphin\n",
      "Scientific_name =  Platanista minor\n",
      "Conservation_status =  Endangered \n",
      "\n",
      "Common_name =  Irrawaddy Dolphin\n",
      "Scientific_name =  Orcaella brevirostris\n",
      "Conservation_status =  Endangered \n",
      "\n",
      "Common_name =  Jaguar\n",
      "Scientific_name =  Panthera onca\n",
      "Conservation_status =  Near Threatened \n",
      "\n",
      "Common_name =  Javan Rhino\n",
      "Scientific_name =  Rhinoceros sondaicus\n",
      "Conservation_status =  Critically Endangered \n",
      "\n"
     ]
    }
   ],
   "source": [
    "# Loop pelo retorno da query e impressão dos dados\n",
    "for row in resultado1:\n",
    "    print(\"Common_name = \", row[0])\n",
    "    print(\"Scientific_name = \", row[1])\n",
    "    print(\"Conservation_status = \", row[2],\"\\n\")\n",
    "conn.commit()"
   ]
  },
  {
   "cell_type": "markdown",
   "metadata": {},
   "source": [
    "Vamos agora retornar dados específicos."
   ]
  },
  {
   "cell_type": "code",
   "execution_count": 40,
   "metadata": {},
   "outputs": [],
   "source": [
    "# Cria query para selecionar os dados na tabela do banco de dados\n",
    "# Atentar quanto ao uso das aspas\n",
    "# Least Conern = Menor Preocupação\n",
    "query2 = \"\"\" SELECT * FROM SPECIES WHERE Conservation_status = \"Least Concern\" \"\"\""
   ]
  },
  {
   "cell_type": "code",
   "execution_count": 41,
   "metadata": {
    "scrolled": false
   },
   "outputs": [],
   "source": [
    "# Executa a query\n",
    "resultado2 = cursor.execute(query2)"
   ]
  },
  {
   "cell_type": "code",
   "execution_count": 42,
   "metadata": {},
   "outputs": [
    {
     "name": "stdout",
     "output_type": "stream",
     "text": [
      "Common_name =  Arctic Fox\n",
      "Scientific_name =  Vulpes lagopus\n",
      "Conservation_status =  Least Concern \n",
      "\n",
      "Common_name =  Arctic Wolf\n",
      "Scientific_name =  Canis lupus arctos\n",
      "Conservation_status =  Least Concern \n",
      "\n",
      "Common_name =  Bowhead Whale\n",
      "Scientific_name =  Balaena mysticetus\n",
      "Conservation_status =  Least Concern \n",
      "\n",
      "Common_name =  Brown Bear\n",
      "Scientific_name =  Ursus arctos\n",
      "Conservation_status =  Least Concern \n",
      "\n",
      "Common_name =  Common Bottlenose Dolphin\n",
      "Scientific_name =  Tursiops truncates\n",
      "Conservation_status =  Least Concern \n",
      "\n",
      "Common_name =  Gray Whale\n",
      "Scientific_name =  Eschrichtius robustus\n",
      "Conservation_status =  Least Concern \n",
      "\n"
     ]
    }
   ],
   "source": [
    "# Loop pelo retorno da query e impressão dos dados\n",
    "for row in resultado2:\n",
    "    print(\"Common_name = \", row[0])\n",
    "    print(\"Scientific_name = \", row[1])\n",
    "    print(\"Conservation_status = \", row[2],\"\\n\")\n",
    "conn.commit()"
   ]
  },
  {
   "cell_type": "markdown",
   "metadata": {},
   "source": [
    "Atualizando valores de tabela no banco de dados usando Chave Primária como referência.\n",
    "\n",
    "Instruções Update, Insert e Delete são instruções DML (Data Manipulation Language) em Linguagem SQL."
   ]
  },
  {
   "cell_type": "code",
   "execution_count": 43,
   "metadata": {},
   "outputs": [],
   "source": [
    "# Cria query para atualizar os dados na tabela do banco de dados\n",
    "# Atentar quanto ao uso das aspas\n",
    "dml_1 = \"\"\" UPDATE SPECIES SET Conservation_status = \"Least-Concern\" WHERE Common_name = \"Gray Whale\" \"\"\""
   ]
  },
  {
   "cell_type": "code",
   "execution_count": 44,
   "metadata": {},
   "outputs": [],
   "source": [
    "# Executa a query\n",
    "cursor.execute(dml_1)\n",
    "conn.commit()"
   ]
  },
  {
   "cell_type": "code",
   "execution_count": 45,
   "metadata": {},
   "outputs": [],
   "source": [
    "# Cria query para selecionar os dados na tabela do banco de dados\n",
    "# Atentar quanto ao uso das aspas\n",
    "query3 = \"\"\" SELECT * FROM SPECIES WHERE Conservation_status = \"Least-Concern\" \"\"\""
   ]
  },
  {
   "cell_type": "code",
   "execution_count": 46,
   "metadata": {
    "scrolled": false
   },
   "outputs": [],
   "source": [
    "# Executa a query\n",
    "resultado3 = cursor.execute(query3)"
   ]
  },
  {
   "cell_type": "code",
   "execution_count": 47,
   "metadata": {},
   "outputs": [
    {
     "name": "stdout",
     "output_type": "stream",
     "text": [
      "Common_name =  Gray Whale\n",
      "Scientific_name =  Eschrichtius robustus\n",
      "Conservation_status =  Least-Concern \n",
      "\n"
     ]
    }
   ],
   "source": [
    "# Loop pelo retorno da query e impressão dos dados\n",
    "for row in resultado3:\n",
    "    print(\"Common_name = \", row[0])\n",
    "    print(\"Scientific_name = \", row[1])\n",
    "    print(\"Conservation_status = \", row[2],\"\\n\")\n",
    "conn.commit()"
   ]
  },
  {
   "cell_type": "markdown",
   "metadata": {},
   "source": [
    "Inserindo dados na tabela no banco de dados."
   ]
  },
  {
   "cell_type": "code",
   "execution_count": 48,
   "metadata": {},
   "outputs": [],
   "source": [
    "# Cria query para inserir os dados na tabela do banco de dados\n",
    "# Atentar quanto ao uso das aspas\n",
    "dml_2 = \" INSERT INTO SPECIES(Common_name, Scientific_name, Conservation_status) \\\n",
    "          VALUES ('Cat', 'Felis catus', 'Important' ) \""
   ]
  },
  {
   "cell_type": "code",
   "execution_count": 49,
   "metadata": {},
   "outputs": [],
   "source": [
    "# Executa a query\n",
    "cursor.execute(dml_2)\n",
    "conn.commit()"
   ]
  },
  {
   "cell_type": "code",
   "execution_count": 50,
   "metadata": {},
   "outputs": [],
   "source": [
    "# Cria query para selecionar os dados na tabela do banco de dados\n",
    "# Atentar quanto ao uso das aspas\n",
    "query4 = \"\"\" SELECT * FROM SPECIES WHERE Conservation_status = \"Important\" \"\"\""
   ]
  },
  {
   "cell_type": "code",
   "execution_count": 51,
   "metadata": {
    "scrolled": true
   },
   "outputs": [],
   "source": [
    "# Executa a query\n",
    "resultado4 = cursor.execute(query4)"
   ]
  },
  {
   "cell_type": "code",
   "execution_count": 52,
   "metadata": {},
   "outputs": [
    {
     "name": "stdout",
     "output_type": "stream",
     "text": [
      "Common_name =  Cat\n",
      "Scientific_name =  Felis catus\n",
      "Conservation_status =  Important \n",
      "\n"
     ]
    }
   ],
   "source": [
    "# Loop pelo retorno da query e impressão dos dados\n",
    "for row in resultado4:\n",
    "    print(\"Common_name = \", row[0])\n",
    "    print(\"Scientific_name = \", row[1])\n",
    "    print(\"Conservation_status = \", row[2],\"\\n\")\n",
    "conn.commit()"
   ]
  },
  {
   "cell_type": "markdown",
   "metadata": {},
   "source": [
    "Excluindo os mesmos dados inseridos acima."
   ]
  },
  {
   "cell_type": "code",
   "execution_count": 53,
   "metadata": {},
   "outputs": [],
   "source": [
    "# Cria query para deletar os dados na tabela do banco de dados\n",
    "# Fique atento ao uso das aspas\n",
    "dml_3 = \"\"\" DELETE from SPECIES where Common_name = \"Cat\" \"\"\""
   ]
  },
  {
   "cell_type": "code",
   "execution_count": 54,
   "metadata": {},
   "outputs": [],
   "source": [
    "# Executa a query\n",
    "cursor.execute(dml_3)\n",
    "conn.commit()"
   ]
  },
  {
   "cell_type": "code",
   "execution_count": 55,
   "metadata": {},
   "outputs": [],
   "source": [
    "# Cria query para selecionar os dados na tabela do banco de dados\n",
    "# Atentar quanto ao uso das aspas\n",
    "query5 = \"\"\" SELECT * FROM SPECIES WHERE Common_name = \"Cat\" \"\"\""
   ]
  },
  {
   "cell_type": "code",
   "execution_count": 56,
   "metadata": {},
   "outputs": [],
   "source": [
    "# Executa a query\n",
    "resultado5 = cursor.execute(query5)"
   ]
  },
  {
   "cell_type": "code",
   "execution_count": 57,
   "metadata": {},
   "outputs": [],
   "source": [
    "# Loop pelo retorno da query e impressão dos dados\n",
    "for row in resultado5:\n",
    "    print(\"Common_name = \", row[0])\n",
    "    print(\"Scientific_name = \", row[1])\n",
    "    print(\"Conservation_status = \", row[2],\"\\n\")\n",
    "conn.commit()"
   ]
  },
  {
   "cell_type": "markdown",
   "metadata": {},
   "source": [
    "A base de dados não retorna nenhum valor, pois não possui valores que solicitamos."
   ]
  },
  {
   "cell_type": "code",
   "execution_count": 58,
   "metadata": {},
   "outputs": [],
   "source": [
    "# Fechamos a conexão com o banco de dados\n",
    "conn.close()"
   ]
  },
  {
   "cell_type": "markdown",
   "metadata": {},
   "source": [
    "# Fim"
   ]
  }
 ],
 "metadata": {
  "kernelspec": {
   "display_name": "Python 3 (ipykernel)",
   "language": "python",
   "name": "python3"
  },
  "language_info": {
   "codemirror_mode": {
    "name": "ipython",
    "version": 3
   },
   "file_extension": ".py",
   "mimetype": "text/x-python",
   "name": "python",
   "nbconvert_exporter": "python",
   "pygments_lexer": "ipython3",
   "version": "3.9.13"
  }
 },
 "nbformat": 4,
 "nbformat_minor": 2
}
